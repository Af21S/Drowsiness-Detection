{
 "cells": [
  {
   "cell_type": "code",
   "execution_count": 19,
   "id": "59434f3b",
   "metadata": {
    "_cell_guid": "b1076dfc-b9ad-4769-8c92-a6c4dae69d19",
    "_uuid": "8f2839f25d086af736a60e9eeb907d3b93b6e0e5",
    "execution": {
     "iopub.execute_input": "2024-07-20T15:42:11.483215Z",
     "iopub.status.busy": "2024-07-20T15:42:11.482747Z",
     "iopub.status.idle": "2024-07-20T15:42:15.838126Z",
     "shell.execute_reply": "2024-07-20T15:42:15.837220Z"
    },
    "papermill": {
     "duration": 4.368738,
     "end_time": "2024-07-20T15:42:15.840956",
     "exception": false,
     "start_time": "2024-07-20T15:42:11.472218",
     "status": "completed"
    },
    "tags": []
   },
   "outputs": [],
   "source": [
    "import numpy as np \n",
    "import pandas as pd \n",
    "import os\n",
    "import tensorflow as tf\n",
    "\n",
    "from glob import glob\n",
    "from tqdm import tqdm\n",
    "\n",
    "import matplotlib.pyplot as plt\n",
    "from PIL import Image"
   ]
  },
  {
   "cell_type": "code",
   "execution_count": 20,
   "id": "aa051950",
   "metadata": {
    "execution": {
     "iopub.execute_input": "2024-07-20T15:42:15.861797Z",
     "iopub.status.busy": "2024-07-20T15:42:15.861203Z",
     "iopub.status.idle": "2024-07-20T15:42:47.128607Z",
     "shell.execute_reply": "2024-07-20T15:42:47.127064Z"
    },
    "papermill": {
     "duration": 31.27952,
     "end_time": "2024-07-20T15:42:47.130766",
     "exception": false,
     "start_time": "2024-07-20T15:42:15.851246",
     "status": "completed"
    },
    "tags": []
   },
   "outputs": [
    {
     "name": "stderr",
     "output_type": "stream",
     "text": [
      "100%|██████████| 2000/2000 [00:03<00:00, 599.36it/s]\n",
      "100%|██████████| 2000/2000 [00:03<00:00, 580.00it/s]\n"
     ]
    }
   ],
   "source": [
    "X = []\n",
    "Y = []\n",
    "\n",
    "for i in tqdm(glob('Dataset/train/Open_Eyes/*')):\n",
    "    temp = np.array(Image.open(i).resize((64,64)))\n",
    "    X.append(temp)\n",
    "    Y.append(1)\n",
    "    \n",
    "for i in tqdm(glob('Dataset/train/Closed_Eyes/*')):\n",
    "    temp = np.array(Image.open(i).resize((64,64)))\n",
    "    X.append(temp)\n",
    "    Y.append(0)    \n",
    "\n",
    "\n"
   ]
  },
  {
   "cell_type": "code",
   "execution_count": 21,
   "id": "ad5b3983",
   "metadata": {
    "execution": {
     "iopub.execute_input": "2024-07-20T15:42:47.190416Z",
     "iopub.status.busy": "2024-07-20T15:42:47.190050Z",
     "iopub.status.idle": "2024-07-20T15:42:47.248475Z",
     "shell.execute_reply": "2024-07-20T15:42:47.247368Z"
    },
    "papermill": {
     "duration": 0.091388,
     "end_time": "2024-07-20T15:42:47.250978",
     "exception": false,
     "start_time": "2024-07-20T15:42:47.159590",
     "status": "completed"
    },
    "tags": []
   },
   "outputs": [
    {
     "data": {
      "text/plain": [
       "array([[[0.14901961, 0.16470588, 0.18039216, ..., 0.34901961,\n",
       "         0.35294118, 0.35294118],\n",
       "        [0.14509804, 0.16470588, 0.18039216, ..., 0.35686275,\n",
       "         0.35294118, 0.35294118],\n",
       "        [0.14509804, 0.16862745, 0.18039216, ..., 0.36470588,\n",
       "         0.36078431, 0.35686275],\n",
       "        ...,\n",
       "        [0.18823529, 0.20392157, 0.22352941, ..., 0.27843137,\n",
       "         0.28235294, 0.29019608],\n",
       "        [0.19215686, 0.2       , 0.21960784, ..., 0.2745098 ,\n",
       "         0.2745098 , 0.28235294],\n",
       "        [0.19215686, 0.2       , 0.21960784, ..., 0.2745098 ,\n",
       "         0.2745098 , 0.2745098 ]],\n",
       "\n",
       "       [[0.34117647, 0.34117647, 0.34509804, ..., 0.19215686,\n",
       "         0.18431373, 0.17647059],\n",
       "        [0.32941176, 0.3372549 , 0.34509804, ..., 0.18431373,\n",
       "         0.18431373, 0.18039216],\n",
       "        [0.33333333, 0.33333333, 0.33333333, ..., 0.17647059,\n",
       "         0.18823529, 0.17647059],\n",
       "        ...,\n",
       "        [0.2627451 , 0.25490196, 0.25098039, ..., 0.24313725,\n",
       "         0.24313725, 0.24313725],\n",
       "        [0.25882353, 0.25490196, 0.24705882, ..., 0.23529412,\n",
       "         0.24313725, 0.23137255],\n",
       "        [0.26666667, 0.25490196, 0.25490196, ..., 0.23921569,\n",
       "         0.24313725, 0.22745098]],\n",
       "\n",
       "       [[0.15294118, 0.16862745, 0.18431373, ..., 0.34117647,\n",
       "         0.34901961, 0.35686275],\n",
       "        [0.16078431, 0.17254902, 0.18039216, ..., 0.35686275,\n",
       "         0.36078431, 0.36078431],\n",
       "        [0.15686275, 0.16862745, 0.18039216, ..., 0.38039216,\n",
       "         0.35686275, 0.36078431],\n",
       "        ...,\n",
       "        [0.19607843, 0.20784314, 0.22352941, ..., 0.27843137,\n",
       "         0.28627451, 0.29019608],\n",
       "        [0.19607843, 0.20392157, 0.21568627, ..., 0.27843137,\n",
       "         0.28627451, 0.29411765],\n",
       "        [0.19607843, 0.20392157, 0.22745098, ..., 0.27843137,\n",
       "         0.28627451, 0.29019608]],\n",
       "\n",
       "       ...,\n",
       "\n",
       "       [[0.39607843, 0.39607843, 0.4       , ..., 0.19215686,\n",
       "         0.18431373, 0.17647059],\n",
       "        [0.40784314, 0.4       , 0.39607843, ..., 0.18823529,\n",
       "         0.18039216, 0.17254902],\n",
       "        [0.40784314, 0.40392157, 0.39215686, ..., 0.18039216,\n",
       "         0.17254902, 0.16470588],\n",
       "        ...,\n",
       "        [0.28627451, 0.28627451, 0.2745098 , ..., 0.24705882,\n",
       "         0.23529412, 0.23137255],\n",
       "        [0.29019608, 0.29019608, 0.28235294, ..., 0.25098039,\n",
       "         0.23921569, 0.22745098],\n",
       "        [0.29803922, 0.29019608, 0.28235294, ..., 0.25490196,\n",
       "         0.24313725, 0.22745098]],\n",
       "\n",
       "       [[0.16862745, 0.18431373, 0.2       , ..., 0.34901961,\n",
       "         0.34901961, 0.36078431],\n",
       "        [0.16078431, 0.18431373, 0.20392157, ..., 0.35294118,\n",
       "         0.35294118, 0.36078431],\n",
       "        [0.16862745, 0.18039216, 0.20392157, ..., 0.35294118,\n",
       "         0.35686275, 0.35686275],\n",
       "        ...,\n",
       "        [0.11372549, 0.1254902 , 0.14901961, ..., 0.30196078,\n",
       "         0.29019608, 0.29803922],\n",
       "        [0.10980392, 0.12156863, 0.14509804, ..., 0.29803922,\n",
       "         0.29019608, 0.29411765],\n",
       "        [0.11372549, 0.11764706, 0.14117647, ..., 0.29803922,\n",
       "         0.30196078, 0.29803922]],\n",
       "\n",
       "       [[0.39607843, 0.4       , 0.39607843, ..., 0.18823529,\n",
       "         0.18431373, 0.17254902],\n",
       "        [0.40392157, 0.40784314, 0.39215686, ..., 0.18823529,\n",
       "         0.17647059, 0.16862745],\n",
       "        [0.4       , 0.40392157, 0.40392157, ..., 0.18039216,\n",
       "         0.16862745, 0.16862745],\n",
       "        ...,\n",
       "        [0.28627451, 0.2745098 , 0.2745098 , ..., 0.25490196,\n",
       "         0.24705882, 0.23137255],\n",
       "        [0.29019608, 0.27843137, 0.27843137, ..., 0.24705882,\n",
       "         0.23921569, 0.23529412],\n",
       "        [0.29411765, 0.28627451, 0.28235294, ..., 0.25098039,\n",
       "         0.23921569, 0.23137255]]])"
      ]
     },
     "execution_count": 21,
     "metadata": {},
     "output_type": "execute_result"
    }
   ],
   "source": [
    "X = np.array(X)\n",
    "X = X/255.0\n",
    "Y = np.array(Y)\n",
    "X"
   ]
  },
  {
   "cell_type": "code",
   "execution_count": 23,
   "id": "a34ebff7",
   "metadata": {
    "execution": {
     "iopub.execute_input": "2024-07-20T15:42:47.308775Z",
     "iopub.status.busy": "2024-07-20T15:42:47.308433Z",
     "iopub.status.idle": "2024-07-20T15:42:47.313165Z",
     "shell.execute_reply": "2024-07-20T15:42:47.312293Z"
    },
    "papermill": {
     "duration": 0.035928,
     "end_time": "2024-07-20T15:42:47.315340",
     "exception": false,
     "start_time": "2024-07-20T15:42:47.279412",
     "status": "completed"
    },
    "tags": []
   },
   "outputs": [
    {
     "data": {
      "text/plain": [
       "array([[[[[0.14901961]],\n",
       "\n",
       "         [[0.16470588]],\n",
       "\n",
       "         [[0.18039216]],\n",
       "\n",
       "         ...,\n",
       "\n",
       "         [[0.34901961]],\n",
       "\n",
       "         [[0.35294118]],\n",
       "\n",
       "         [[0.35294118]]],\n",
       "\n",
       "\n",
       "        [[[0.14509804]],\n",
       "\n",
       "         [[0.16470588]],\n",
       "\n",
       "         [[0.18039216]],\n",
       "\n",
       "         ...,\n",
       "\n",
       "         [[0.35686275]],\n",
       "\n",
       "         [[0.35294118]],\n",
       "\n",
       "         [[0.35294118]]],\n",
       "\n",
       "\n",
       "        [[[0.14509804]],\n",
       "\n",
       "         [[0.16862745]],\n",
       "\n",
       "         [[0.18039216]],\n",
       "\n",
       "         ...,\n",
       "\n",
       "         [[0.36470588]],\n",
       "\n",
       "         [[0.36078431]],\n",
       "\n",
       "         [[0.35686275]]],\n",
       "\n",
       "\n",
       "        ...,\n",
       "\n",
       "\n",
       "        [[[0.18823529]],\n",
       "\n",
       "         [[0.20392157]],\n",
       "\n",
       "         [[0.22352941]],\n",
       "\n",
       "         ...,\n",
       "\n",
       "         [[0.27843137]],\n",
       "\n",
       "         [[0.28235294]],\n",
       "\n",
       "         [[0.29019608]]],\n",
       "\n",
       "\n",
       "        [[[0.19215686]],\n",
       "\n",
       "         [[0.2       ]],\n",
       "\n",
       "         [[0.21960784]],\n",
       "\n",
       "         ...,\n",
       "\n",
       "         [[0.2745098 ]],\n",
       "\n",
       "         [[0.2745098 ]],\n",
       "\n",
       "         [[0.28235294]]],\n",
       "\n",
       "\n",
       "        [[[0.19215686]],\n",
       "\n",
       "         [[0.2       ]],\n",
       "\n",
       "         [[0.21960784]],\n",
       "\n",
       "         ...,\n",
       "\n",
       "         [[0.2745098 ]],\n",
       "\n",
       "         [[0.2745098 ]],\n",
       "\n",
       "         [[0.2745098 ]]]],\n",
       "\n",
       "\n",
       "\n",
       "       [[[[0.34117647]],\n",
       "\n",
       "         [[0.34117647]],\n",
       "\n",
       "         [[0.34509804]],\n",
       "\n",
       "         ...,\n",
       "\n",
       "         [[0.19215686]],\n",
       "\n",
       "         [[0.18431373]],\n",
       "\n",
       "         [[0.17647059]]],\n",
       "\n",
       "\n",
       "        [[[0.32941176]],\n",
       "\n",
       "         [[0.3372549 ]],\n",
       "\n",
       "         [[0.34509804]],\n",
       "\n",
       "         ...,\n",
       "\n",
       "         [[0.18431373]],\n",
       "\n",
       "         [[0.18431373]],\n",
       "\n",
       "         [[0.18039216]]],\n",
       "\n",
       "\n",
       "        [[[0.33333333]],\n",
       "\n",
       "         [[0.33333333]],\n",
       "\n",
       "         [[0.33333333]],\n",
       "\n",
       "         ...,\n",
       "\n",
       "         [[0.17647059]],\n",
       "\n",
       "         [[0.18823529]],\n",
       "\n",
       "         [[0.17647059]]],\n",
       "\n",
       "\n",
       "        ...,\n",
       "\n",
       "\n",
       "        [[[0.2627451 ]],\n",
       "\n",
       "         [[0.25490196]],\n",
       "\n",
       "         [[0.25098039]],\n",
       "\n",
       "         ...,\n",
       "\n",
       "         [[0.24313725]],\n",
       "\n",
       "         [[0.24313725]],\n",
       "\n",
       "         [[0.24313725]]],\n",
       "\n",
       "\n",
       "        [[[0.25882353]],\n",
       "\n",
       "         [[0.25490196]],\n",
       "\n",
       "         [[0.24705882]],\n",
       "\n",
       "         ...,\n",
       "\n",
       "         [[0.23529412]],\n",
       "\n",
       "         [[0.24313725]],\n",
       "\n",
       "         [[0.23137255]]],\n",
       "\n",
       "\n",
       "        [[[0.26666667]],\n",
       "\n",
       "         [[0.25490196]],\n",
       "\n",
       "         [[0.25490196]],\n",
       "\n",
       "         ...,\n",
       "\n",
       "         [[0.23921569]],\n",
       "\n",
       "         [[0.24313725]],\n",
       "\n",
       "         [[0.22745098]]]],\n",
       "\n",
       "\n",
       "\n",
       "       [[[[0.15294118]],\n",
       "\n",
       "         [[0.16862745]],\n",
       "\n",
       "         [[0.18431373]],\n",
       "\n",
       "         ...,\n",
       "\n",
       "         [[0.34117647]],\n",
       "\n",
       "         [[0.34901961]],\n",
       "\n",
       "         [[0.35686275]]],\n",
       "\n",
       "\n",
       "        [[[0.16078431]],\n",
       "\n",
       "         [[0.17254902]],\n",
       "\n",
       "         [[0.18039216]],\n",
       "\n",
       "         ...,\n",
       "\n",
       "         [[0.35686275]],\n",
       "\n",
       "         [[0.36078431]],\n",
       "\n",
       "         [[0.36078431]]],\n",
       "\n",
       "\n",
       "        [[[0.15686275]],\n",
       "\n",
       "         [[0.16862745]],\n",
       "\n",
       "         [[0.18039216]],\n",
       "\n",
       "         ...,\n",
       "\n",
       "         [[0.38039216]],\n",
       "\n",
       "         [[0.35686275]],\n",
       "\n",
       "         [[0.36078431]]],\n",
       "\n",
       "\n",
       "        ...,\n",
       "\n",
       "\n",
       "        [[[0.19607843]],\n",
       "\n",
       "         [[0.20784314]],\n",
       "\n",
       "         [[0.22352941]],\n",
       "\n",
       "         ...,\n",
       "\n",
       "         [[0.27843137]],\n",
       "\n",
       "         [[0.28627451]],\n",
       "\n",
       "         [[0.29019608]]],\n",
       "\n",
       "\n",
       "        [[[0.19607843]],\n",
       "\n",
       "         [[0.20392157]],\n",
       "\n",
       "         [[0.21568627]],\n",
       "\n",
       "         ...,\n",
       "\n",
       "         [[0.27843137]],\n",
       "\n",
       "         [[0.28627451]],\n",
       "\n",
       "         [[0.29411765]]],\n",
       "\n",
       "\n",
       "        [[[0.19607843]],\n",
       "\n",
       "         [[0.20392157]],\n",
       "\n",
       "         [[0.22745098]],\n",
       "\n",
       "         ...,\n",
       "\n",
       "         [[0.27843137]],\n",
       "\n",
       "         [[0.28627451]],\n",
       "\n",
       "         [[0.29019608]]]],\n",
       "\n",
       "\n",
       "\n",
       "       ...,\n",
       "\n",
       "\n",
       "\n",
       "       [[[[0.39607843]],\n",
       "\n",
       "         [[0.39607843]],\n",
       "\n",
       "         [[0.4       ]],\n",
       "\n",
       "         ...,\n",
       "\n",
       "         [[0.19215686]],\n",
       "\n",
       "         [[0.18431373]],\n",
       "\n",
       "         [[0.17647059]]],\n",
       "\n",
       "\n",
       "        [[[0.40784314]],\n",
       "\n",
       "         [[0.4       ]],\n",
       "\n",
       "         [[0.39607843]],\n",
       "\n",
       "         ...,\n",
       "\n",
       "         [[0.18823529]],\n",
       "\n",
       "         [[0.18039216]],\n",
       "\n",
       "         [[0.17254902]]],\n",
       "\n",
       "\n",
       "        [[[0.40784314]],\n",
       "\n",
       "         [[0.40392157]],\n",
       "\n",
       "         [[0.39215686]],\n",
       "\n",
       "         ...,\n",
       "\n",
       "         [[0.18039216]],\n",
       "\n",
       "         [[0.17254902]],\n",
       "\n",
       "         [[0.16470588]]],\n",
       "\n",
       "\n",
       "        ...,\n",
       "\n",
       "\n",
       "        [[[0.28627451]],\n",
       "\n",
       "         [[0.28627451]],\n",
       "\n",
       "         [[0.2745098 ]],\n",
       "\n",
       "         ...,\n",
       "\n",
       "         [[0.24705882]],\n",
       "\n",
       "         [[0.23529412]],\n",
       "\n",
       "         [[0.23137255]]],\n",
       "\n",
       "\n",
       "        [[[0.29019608]],\n",
       "\n",
       "         [[0.29019608]],\n",
       "\n",
       "         [[0.28235294]],\n",
       "\n",
       "         ...,\n",
       "\n",
       "         [[0.25098039]],\n",
       "\n",
       "         [[0.23921569]],\n",
       "\n",
       "         [[0.22745098]]],\n",
       "\n",
       "\n",
       "        [[[0.29803922]],\n",
       "\n",
       "         [[0.29019608]],\n",
       "\n",
       "         [[0.28235294]],\n",
       "\n",
       "         ...,\n",
       "\n",
       "         [[0.25490196]],\n",
       "\n",
       "         [[0.24313725]],\n",
       "\n",
       "         [[0.22745098]]]],\n",
       "\n",
       "\n",
       "\n",
       "       [[[[0.16862745]],\n",
       "\n",
       "         [[0.18431373]],\n",
       "\n",
       "         [[0.2       ]],\n",
       "\n",
       "         ...,\n",
       "\n",
       "         [[0.34901961]],\n",
       "\n",
       "         [[0.34901961]],\n",
       "\n",
       "         [[0.36078431]]],\n",
       "\n",
       "\n",
       "        [[[0.16078431]],\n",
       "\n",
       "         [[0.18431373]],\n",
       "\n",
       "         [[0.20392157]],\n",
       "\n",
       "         ...,\n",
       "\n",
       "         [[0.35294118]],\n",
       "\n",
       "         [[0.35294118]],\n",
       "\n",
       "         [[0.36078431]]],\n",
       "\n",
       "\n",
       "        [[[0.16862745]],\n",
       "\n",
       "         [[0.18039216]],\n",
       "\n",
       "         [[0.20392157]],\n",
       "\n",
       "         ...,\n",
       "\n",
       "         [[0.35294118]],\n",
       "\n",
       "         [[0.35686275]],\n",
       "\n",
       "         [[0.35686275]]],\n",
       "\n",
       "\n",
       "        ...,\n",
       "\n",
       "\n",
       "        [[[0.11372549]],\n",
       "\n",
       "         [[0.1254902 ]],\n",
       "\n",
       "         [[0.14901961]],\n",
       "\n",
       "         ...,\n",
       "\n",
       "         [[0.30196078]],\n",
       "\n",
       "         [[0.29019608]],\n",
       "\n",
       "         [[0.29803922]]],\n",
       "\n",
       "\n",
       "        [[[0.10980392]],\n",
       "\n",
       "         [[0.12156863]],\n",
       "\n",
       "         [[0.14509804]],\n",
       "\n",
       "         ...,\n",
       "\n",
       "         [[0.29803922]],\n",
       "\n",
       "         [[0.29019608]],\n",
       "\n",
       "         [[0.29411765]]],\n",
       "\n",
       "\n",
       "        [[[0.11372549]],\n",
       "\n",
       "         [[0.11764706]],\n",
       "\n",
       "         [[0.14117647]],\n",
       "\n",
       "         ...,\n",
       "\n",
       "         [[0.29803922]],\n",
       "\n",
       "         [[0.30196078]],\n",
       "\n",
       "         [[0.29803922]]]],\n",
       "\n",
       "\n",
       "\n",
       "       [[[[0.39607843]],\n",
       "\n",
       "         [[0.4       ]],\n",
       "\n",
       "         [[0.39607843]],\n",
       "\n",
       "         ...,\n",
       "\n",
       "         [[0.18823529]],\n",
       "\n",
       "         [[0.18431373]],\n",
       "\n",
       "         [[0.17254902]]],\n",
       "\n",
       "\n",
       "        [[[0.40392157]],\n",
       "\n",
       "         [[0.40784314]],\n",
       "\n",
       "         [[0.39215686]],\n",
       "\n",
       "         ...,\n",
       "\n",
       "         [[0.18823529]],\n",
       "\n",
       "         [[0.17647059]],\n",
       "\n",
       "         [[0.16862745]]],\n",
       "\n",
       "\n",
       "        [[[0.4       ]],\n",
       "\n",
       "         [[0.40392157]],\n",
       "\n",
       "         [[0.40392157]],\n",
       "\n",
       "         ...,\n",
       "\n",
       "         [[0.18039216]],\n",
       "\n",
       "         [[0.16862745]],\n",
       "\n",
       "         [[0.16862745]]],\n",
       "\n",
       "\n",
       "        ...,\n",
       "\n",
       "\n",
       "        [[[0.28627451]],\n",
       "\n",
       "         [[0.2745098 ]],\n",
       "\n",
       "         [[0.2745098 ]],\n",
       "\n",
       "         ...,\n",
       "\n",
       "         [[0.25490196]],\n",
       "\n",
       "         [[0.24705882]],\n",
       "\n",
       "         [[0.23137255]]],\n",
       "\n",
       "\n",
       "        [[[0.29019608]],\n",
       "\n",
       "         [[0.27843137]],\n",
       "\n",
       "         [[0.27843137]],\n",
       "\n",
       "         ...,\n",
       "\n",
       "         [[0.24705882]],\n",
       "\n",
       "         [[0.23921569]],\n",
       "\n",
       "         [[0.23529412]]],\n",
       "\n",
       "\n",
       "        [[[0.29411765]],\n",
       "\n",
       "         [[0.28627451]],\n",
       "\n",
       "         [[0.28235294]],\n",
       "\n",
       "         ...,\n",
       "\n",
       "         [[0.25098039]],\n",
       "\n",
       "         [[0.23921569]],\n",
       "\n",
       "         [[0.23137255]]]]])"
      ]
     },
     "execution_count": 23,
     "metadata": {},
     "output_type": "execute_result"
    }
   ],
   "source": [
    "X = np.expand_dims(X,-1)\n",
    "X"
   ]
  },
  {
   "cell_type": "code",
   "execution_count": 24,
   "id": "94b0f9af",
   "metadata": {
    "execution": {
     "iopub.execute_input": "2024-07-20T15:42:47.372438Z",
     "iopub.status.busy": "2024-07-20T15:42:47.372145Z",
     "iopub.status.idle": "2024-07-20T15:42:48.037181Z",
     "shell.execute_reply": "2024-07-20T15:42:48.036061Z"
    },
    "papermill": {
     "duration": 0.696461,
     "end_time": "2024-07-20T15:42:48.039785",
     "exception": false,
     "start_time": "2024-07-20T15:42:47.343324",
     "status": "completed"
    },
    "tags": []
   },
   "outputs": [],
   "source": [
    "from sklearn.model_selection import train_test_split\n",
    "x_train, x_test, y_train, y_test = train_test_split(X, Y, test_size=0.33, random_state=42)"
   ]
  },
  {
   "cell_type": "code",
   "execution_count": 25,
   "id": "1c78147a",
   "metadata": {
    "execution": {
     "iopub.execute_input": "2024-07-20T15:42:48.097781Z",
     "iopub.status.busy": "2024-07-20T15:42:48.097449Z",
     "iopub.status.idle": "2024-07-20T15:42:51.860783Z",
     "shell.execute_reply": "2024-07-20T15:42:51.859898Z"
    },
    "papermill": {
     "duration": 3.794876,
     "end_time": "2024-07-20T15:42:51.863223",
     "exception": false,
     "start_time": "2024-07-20T15:42:48.068347",
     "status": "completed"
    },
    "tags": []
   },
   "outputs": [],
   "source": [
    "from tensorflow.keras.models import Sequential\n",
    "from tensorflow.keras.layers import Dense, Input, Conv2D, BatchNormalization, MaxPooling2D,Dropout, Flatten\n",
    "\n",
    "model = tf.keras.models.Sequential([\n",
    "      Input(shape=(64, 64, 1)),\n",
    "\n",
    "      Conv2D(filters = 32, kernel_size = 5, strides = 1, activation = 'relu'),\n",
    "      Conv2D(filters = 32, kernel_size = 5, strides = 1, activation = 'relu', use_bias=False),\n",
    "      BatchNormalization(),\n",
    "      MaxPooling2D(strides = 2),\n",
    "      Dropout(0.3),\n",
    "\n",
    "      Conv2D(filters = 64, kernel_size = 3, strides = 1, activation = 'relu'),\n",
    "      Conv2D(filters = 64, kernel_size = 3, strides = 1, activation = 'relu', use_bias=False),\n",
    "      BatchNormalization(),\n",
    "      MaxPooling2D(strides = 2),\n",
    "      Dropout(0.3),\n",
    "\n",
    "      Flatten(),\n",
    "      Dense(units  = 256, activation = 'relu', use_bias=False),\n",
    "      BatchNormalization(),\n",
    "\n",
    "      Dense(units = 128, use_bias=False, activation = 'relu'),\n",
    "\n",
    "      Dense(units = 84, use_bias=False, activation = 'relu'),\n",
    "      BatchNormalization(),\n",
    "      Dropout(0.3),\n",
    "\n",
    "      Dense(units = 1, activation = 'sigmoid')\n",
    "  ])"
   ]
  },
  {
   "cell_type": "code",
   "execution_count": 26,
   "id": "8c7636d7",
   "metadata": {
    "execution": {
     "iopub.execute_input": "2024-07-20T15:42:51.921758Z",
     "iopub.status.busy": "2024-07-20T15:42:51.920877Z",
     "iopub.status.idle": "2024-07-20T15:42:51.934108Z",
     "shell.execute_reply": "2024-07-20T15:42:51.933357Z"
    },
    "papermill": {
     "duration": 0.04457,
     "end_time": "2024-07-20T15:42:51.936104",
     "exception": false,
     "start_time": "2024-07-20T15:42:51.891534",
     "status": "completed"
    },
    "tags": []
   },
   "outputs": [],
   "source": [
    "model.compile(loss='binary_crossentropy',optimizer='adam', metrics=['accuracy'])"
   ]
  },
  {
   "cell_type": "code",
   "execution_count": 27,
   "id": "2bfeffb2",
   "metadata": {
    "execution": {
     "iopub.execute_input": "2024-07-20T15:42:51.994872Z",
     "iopub.status.busy": "2024-07-20T15:42:51.994599Z",
     "iopub.status.idle": "2024-07-20T15:42:52.001490Z",
     "shell.execute_reply": "2024-07-20T15:42:52.000580Z"
    },
    "papermill": {
     "duration": 0.038468,
     "end_time": "2024-07-20T15:42:52.004099",
     "exception": false,
     "start_time": "2024-07-20T15:42:51.965631",
     "status": "completed"
    },
    "tags": []
   },
   "outputs": [
    {
     "data": {
      "text/html": [
       "<pre style=\"white-space:pre;overflow-x:auto;line-height:normal;font-family:Menlo,'DejaVu Sans Mono',consolas,'Courier New',monospace\"><span style=\"font-weight: bold\">Model: \"sequential\"</span>\n",
       "</pre>\n"
      ],
      "text/plain": [
       "\u001b[1mModel: \"sequential\"\u001b[0m\n"
      ]
     },
     "metadata": {},
     "output_type": "display_data"
    },
    {
     "data": {
      "text/html": [
       "<pre style=\"white-space:pre;overflow-x:auto;line-height:normal;font-family:Menlo,'DejaVu Sans Mono',consolas,'Courier New',monospace\">┏━━━━━━━━━━━━━━━━━━━━━━━━━━━━━━━━━┳━━━━━━━━━━━━━━━━━━━━━━━━┳━━━━━━━━━━━━━━━┓\n",
       "┃<span style=\"font-weight: bold\"> Layer (type)                    </span>┃<span style=\"font-weight: bold\"> Output Shape           </span>┃<span style=\"font-weight: bold\">       Param # </span>┃\n",
       "┡━━━━━━━━━━━━━━━━━━━━━━━━━━━━━━━━━╇━━━━━━━━━━━━━━━━━━━━━━━━╇━━━━━━━━━━━━━━━┩\n",
       "│ conv2d (<span style=\"color: #0087ff; text-decoration-color: #0087ff\">Conv2D</span>)                 │ (<span style=\"color: #00d7ff; text-decoration-color: #00d7ff\">None</span>, <span style=\"color: #00af00; text-decoration-color: #00af00\">60</span>, <span style=\"color: #00af00; text-decoration-color: #00af00\">60</span>, <span style=\"color: #00af00; text-decoration-color: #00af00\">32</span>)     │           <span style=\"color: #00af00; text-decoration-color: #00af00\">832</span> │\n",
       "├─────────────────────────────────┼────────────────────────┼───────────────┤\n",
       "│ conv2d_1 (<span style=\"color: #0087ff; text-decoration-color: #0087ff\">Conv2D</span>)               │ (<span style=\"color: #00d7ff; text-decoration-color: #00d7ff\">None</span>, <span style=\"color: #00af00; text-decoration-color: #00af00\">56</span>, <span style=\"color: #00af00; text-decoration-color: #00af00\">56</span>, <span style=\"color: #00af00; text-decoration-color: #00af00\">32</span>)     │        <span style=\"color: #00af00; text-decoration-color: #00af00\">25,600</span> │\n",
       "├─────────────────────────────────┼────────────────────────┼───────────────┤\n",
       "│ batch_normalization             │ (<span style=\"color: #00d7ff; text-decoration-color: #00d7ff\">None</span>, <span style=\"color: #00af00; text-decoration-color: #00af00\">56</span>, <span style=\"color: #00af00; text-decoration-color: #00af00\">56</span>, <span style=\"color: #00af00; text-decoration-color: #00af00\">32</span>)     │           <span style=\"color: #00af00; text-decoration-color: #00af00\">128</span> │\n",
       "│ (<span style=\"color: #0087ff; text-decoration-color: #0087ff\">BatchNormalization</span>)            │                        │               │\n",
       "├─────────────────────────────────┼────────────────────────┼───────────────┤\n",
       "│ max_pooling2d (<span style=\"color: #0087ff; text-decoration-color: #0087ff\">MaxPooling2D</span>)    │ (<span style=\"color: #00d7ff; text-decoration-color: #00d7ff\">None</span>, <span style=\"color: #00af00; text-decoration-color: #00af00\">28</span>, <span style=\"color: #00af00; text-decoration-color: #00af00\">28</span>, <span style=\"color: #00af00; text-decoration-color: #00af00\">32</span>)     │             <span style=\"color: #00af00; text-decoration-color: #00af00\">0</span> │\n",
       "├─────────────────────────────────┼────────────────────────┼───────────────┤\n",
       "│ dropout (<span style=\"color: #0087ff; text-decoration-color: #0087ff\">Dropout</span>)               │ (<span style=\"color: #00d7ff; text-decoration-color: #00d7ff\">None</span>, <span style=\"color: #00af00; text-decoration-color: #00af00\">28</span>, <span style=\"color: #00af00; text-decoration-color: #00af00\">28</span>, <span style=\"color: #00af00; text-decoration-color: #00af00\">32</span>)     │             <span style=\"color: #00af00; text-decoration-color: #00af00\">0</span> │\n",
       "├─────────────────────────────────┼────────────────────────┼───────────────┤\n",
       "│ conv2d_2 (<span style=\"color: #0087ff; text-decoration-color: #0087ff\">Conv2D</span>)               │ (<span style=\"color: #00d7ff; text-decoration-color: #00d7ff\">None</span>, <span style=\"color: #00af00; text-decoration-color: #00af00\">26</span>, <span style=\"color: #00af00; text-decoration-color: #00af00\">26</span>, <span style=\"color: #00af00; text-decoration-color: #00af00\">64</span>)     │        <span style=\"color: #00af00; text-decoration-color: #00af00\">18,496</span> │\n",
       "├─────────────────────────────────┼────────────────────────┼───────────────┤\n",
       "│ conv2d_3 (<span style=\"color: #0087ff; text-decoration-color: #0087ff\">Conv2D</span>)               │ (<span style=\"color: #00d7ff; text-decoration-color: #00d7ff\">None</span>, <span style=\"color: #00af00; text-decoration-color: #00af00\">24</span>, <span style=\"color: #00af00; text-decoration-color: #00af00\">24</span>, <span style=\"color: #00af00; text-decoration-color: #00af00\">64</span>)     │        <span style=\"color: #00af00; text-decoration-color: #00af00\">36,864</span> │\n",
       "├─────────────────────────────────┼────────────────────────┼───────────────┤\n",
       "│ batch_normalization_1           │ (<span style=\"color: #00d7ff; text-decoration-color: #00d7ff\">None</span>, <span style=\"color: #00af00; text-decoration-color: #00af00\">24</span>, <span style=\"color: #00af00; text-decoration-color: #00af00\">24</span>, <span style=\"color: #00af00; text-decoration-color: #00af00\">64</span>)     │           <span style=\"color: #00af00; text-decoration-color: #00af00\">256</span> │\n",
       "│ (<span style=\"color: #0087ff; text-decoration-color: #0087ff\">BatchNormalization</span>)            │                        │               │\n",
       "├─────────────────────────────────┼────────────────────────┼───────────────┤\n",
       "│ max_pooling2d_1 (<span style=\"color: #0087ff; text-decoration-color: #0087ff\">MaxPooling2D</span>)  │ (<span style=\"color: #00d7ff; text-decoration-color: #00d7ff\">None</span>, <span style=\"color: #00af00; text-decoration-color: #00af00\">12</span>, <span style=\"color: #00af00; text-decoration-color: #00af00\">12</span>, <span style=\"color: #00af00; text-decoration-color: #00af00\">64</span>)     │             <span style=\"color: #00af00; text-decoration-color: #00af00\">0</span> │\n",
       "├─────────────────────────────────┼────────────────────────┼───────────────┤\n",
       "│ dropout_1 (<span style=\"color: #0087ff; text-decoration-color: #0087ff\">Dropout</span>)             │ (<span style=\"color: #00d7ff; text-decoration-color: #00d7ff\">None</span>, <span style=\"color: #00af00; text-decoration-color: #00af00\">12</span>, <span style=\"color: #00af00; text-decoration-color: #00af00\">12</span>, <span style=\"color: #00af00; text-decoration-color: #00af00\">64</span>)     │             <span style=\"color: #00af00; text-decoration-color: #00af00\">0</span> │\n",
       "├─────────────────────────────────┼────────────────────────┼───────────────┤\n",
       "│ flatten (<span style=\"color: #0087ff; text-decoration-color: #0087ff\">Flatten</span>)               │ (<span style=\"color: #00d7ff; text-decoration-color: #00d7ff\">None</span>, <span style=\"color: #00af00; text-decoration-color: #00af00\">9216</span>)           │             <span style=\"color: #00af00; text-decoration-color: #00af00\">0</span> │\n",
       "├─────────────────────────────────┼────────────────────────┼───────────────┤\n",
       "│ dense (<span style=\"color: #0087ff; text-decoration-color: #0087ff\">Dense</span>)                   │ (<span style=\"color: #00d7ff; text-decoration-color: #00d7ff\">None</span>, <span style=\"color: #00af00; text-decoration-color: #00af00\">256</span>)            │     <span style=\"color: #00af00; text-decoration-color: #00af00\">2,359,296</span> │\n",
       "├─────────────────────────────────┼────────────────────────┼───────────────┤\n",
       "│ batch_normalization_2           │ (<span style=\"color: #00d7ff; text-decoration-color: #00d7ff\">None</span>, <span style=\"color: #00af00; text-decoration-color: #00af00\">256</span>)            │         <span style=\"color: #00af00; text-decoration-color: #00af00\">1,024</span> │\n",
       "│ (<span style=\"color: #0087ff; text-decoration-color: #0087ff\">BatchNormalization</span>)            │                        │               │\n",
       "├─────────────────────────────────┼────────────────────────┼───────────────┤\n",
       "│ dense_1 (<span style=\"color: #0087ff; text-decoration-color: #0087ff\">Dense</span>)                 │ (<span style=\"color: #00d7ff; text-decoration-color: #00d7ff\">None</span>, <span style=\"color: #00af00; text-decoration-color: #00af00\">128</span>)            │        <span style=\"color: #00af00; text-decoration-color: #00af00\">32,768</span> │\n",
       "├─────────────────────────────────┼────────────────────────┼───────────────┤\n",
       "│ dense_2 (<span style=\"color: #0087ff; text-decoration-color: #0087ff\">Dense</span>)                 │ (<span style=\"color: #00d7ff; text-decoration-color: #00d7ff\">None</span>, <span style=\"color: #00af00; text-decoration-color: #00af00\">84</span>)             │        <span style=\"color: #00af00; text-decoration-color: #00af00\">10,752</span> │\n",
       "├─────────────────────────────────┼────────────────────────┼───────────────┤\n",
       "│ batch_normalization_3           │ (<span style=\"color: #00d7ff; text-decoration-color: #00d7ff\">None</span>, <span style=\"color: #00af00; text-decoration-color: #00af00\">84</span>)             │           <span style=\"color: #00af00; text-decoration-color: #00af00\">336</span> │\n",
       "│ (<span style=\"color: #0087ff; text-decoration-color: #0087ff\">BatchNormalization</span>)            │                        │               │\n",
       "├─────────────────────────────────┼────────────────────────┼───────────────┤\n",
       "│ dropout_2 (<span style=\"color: #0087ff; text-decoration-color: #0087ff\">Dropout</span>)             │ (<span style=\"color: #00d7ff; text-decoration-color: #00d7ff\">None</span>, <span style=\"color: #00af00; text-decoration-color: #00af00\">84</span>)             │             <span style=\"color: #00af00; text-decoration-color: #00af00\">0</span> │\n",
       "├─────────────────────────────────┼────────────────────────┼───────────────┤\n",
       "│ dense_3 (<span style=\"color: #0087ff; text-decoration-color: #0087ff\">Dense</span>)                 │ (<span style=\"color: #00d7ff; text-decoration-color: #00d7ff\">None</span>, <span style=\"color: #00af00; text-decoration-color: #00af00\">1</span>)              │            <span style=\"color: #00af00; text-decoration-color: #00af00\">85</span> │\n",
       "└─────────────────────────────────┴────────────────────────┴───────────────┘\n",
       "</pre>\n"
      ],
      "text/plain": [
       "┏━━━━━━━━━━━━━━━━━━━━━━━━━━━━━━━━━┳━━━━━━━━━━━━━━━━━━━━━━━━┳━━━━━━━━━━━━━━━┓\n",
       "┃\u001b[1m \u001b[0m\u001b[1mLayer (type)                   \u001b[0m\u001b[1m \u001b[0m┃\u001b[1m \u001b[0m\u001b[1mOutput Shape          \u001b[0m\u001b[1m \u001b[0m┃\u001b[1m \u001b[0m\u001b[1m      Param #\u001b[0m\u001b[1m \u001b[0m┃\n",
       "┡━━━━━━━━━━━━━━━━━━━━━━━━━━━━━━━━━╇━━━━━━━━━━━━━━━━━━━━━━━━╇━━━━━━━━━━━━━━━┩\n",
       "│ conv2d (\u001b[38;5;33mConv2D\u001b[0m)                 │ (\u001b[38;5;45mNone\u001b[0m, \u001b[38;5;34m60\u001b[0m, \u001b[38;5;34m60\u001b[0m, \u001b[38;5;34m32\u001b[0m)     │           \u001b[38;5;34m832\u001b[0m │\n",
       "├─────────────────────────────────┼────────────────────────┼───────────────┤\n",
       "│ conv2d_1 (\u001b[38;5;33mConv2D\u001b[0m)               │ (\u001b[38;5;45mNone\u001b[0m, \u001b[38;5;34m56\u001b[0m, \u001b[38;5;34m56\u001b[0m, \u001b[38;5;34m32\u001b[0m)     │        \u001b[38;5;34m25,600\u001b[0m │\n",
       "├─────────────────────────────────┼────────────────────────┼───────────────┤\n",
       "│ batch_normalization             │ (\u001b[38;5;45mNone\u001b[0m, \u001b[38;5;34m56\u001b[0m, \u001b[38;5;34m56\u001b[0m, \u001b[38;5;34m32\u001b[0m)     │           \u001b[38;5;34m128\u001b[0m │\n",
       "│ (\u001b[38;5;33mBatchNormalization\u001b[0m)            │                        │               │\n",
       "├─────────────────────────────────┼────────────────────────┼───────────────┤\n",
       "│ max_pooling2d (\u001b[38;5;33mMaxPooling2D\u001b[0m)    │ (\u001b[38;5;45mNone\u001b[0m, \u001b[38;5;34m28\u001b[0m, \u001b[38;5;34m28\u001b[0m, \u001b[38;5;34m32\u001b[0m)     │             \u001b[38;5;34m0\u001b[0m │\n",
       "├─────────────────────────────────┼────────────────────────┼───────────────┤\n",
       "│ dropout (\u001b[38;5;33mDropout\u001b[0m)               │ (\u001b[38;5;45mNone\u001b[0m, \u001b[38;5;34m28\u001b[0m, \u001b[38;5;34m28\u001b[0m, \u001b[38;5;34m32\u001b[0m)     │             \u001b[38;5;34m0\u001b[0m │\n",
       "├─────────────────────────────────┼────────────────────────┼───────────────┤\n",
       "│ conv2d_2 (\u001b[38;5;33mConv2D\u001b[0m)               │ (\u001b[38;5;45mNone\u001b[0m, \u001b[38;5;34m26\u001b[0m, \u001b[38;5;34m26\u001b[0m, \u001b[38;5;34m64\u001b[0m)     │        \u001b[38;5;34m18,496\u001b[0m │\n",
       "├─────────────────────────────────┼────────────────────────┼───────────────┤\n",
       "│ conv2d_3 (\u001b[38;5;33mConv2D\u001b[0m)               │ (\u001b[38;5;45mNone\u001b[0m, \u001b[38;5;34m24\u001b[0m, \u001b[38;5;34m24\u001b[0m, \u001b[38;5;34m64\u001b[0m)     │        \u001b[38;5;34m36,864\u001b[0m │\n",
       "├─────────────────────────────────┼────────────────────────┼───────────────┤\n",
       "│ batch_normalization_1           │ (\u001b[38;5;45mNone\u001b[0m, \u001b[38;5;34m24\u001b[0m, \u001b[38;5;34m24\u001b[0m, \u001b[38;5;34m64\u001b[0m)     │           \u001b[38;5;34m256\u001b[0m │\n",
       "│ (\u001b[38;5;33mBatchNormalization\u001b[0m)            │                        │               │\n",
       "├─────────────────────────────────┼────────────────────────┼───────────────┤\n",
       "│ max_pooling2d_1 (\u001b[38;5;33mMaxPooling2D\u001b[0m)  │ (\u001b[38;5;45mNone\u001b[0m, \u001b[38;5;34m12\u001b[0m, \u001b[38;5;34m12\u001b[0m, \u001b[38;5;34m64\u001b[0m)     │             \u001b[38;5;34m0\u001b[0m │\n",
       "├─────────────────────────────────┼────────────────────────┼───────────────┤\n",
       "│ dropout_1 (\u001b[38;5;33mDropout\u001b[0m)             │ (\u001b[38;5;45mNone\u001b[0m, \u001b[38;5;34m12\u001b[0m, \u001b[38;5;34m12\u001b[0m, \u001b[38;5;34m64\u001b[0m)     │             \u001b[38;5;34m0\u001b[0m │\n",
       "├─────────────────────────────────┼────────────────────────┼───────────────┤\n",
       "│ flatten (\u001b[38;5;33mFlatten\u001b[0m)               │ (\u001b[38;5;45mNone\u001b[0m, \u001b[38;5;34m9216\u001b[0m)           │             \u001b[38;5;34m0\u001b[0m │\n",
       "├─────────────────────────────────┼────────────────────────┼───────────────┤\n",
       "│ dense (\u001b[38;5;33mDense\u001b[0m)                   │ (\u001b[38;5;45mNone\u001b[0m, \u001b[38;5;34m256\u001b[0m)            │     \u001b[38;5;34m2,359,296\u001b[0m │\n",
       "├─────────────────────────────────┼────────────────────────┼───────────────┤\n",
       "│ batch_normalization_2           │ (\u001b[38;5;45mNone\u001b[0m, \u001b[38;5;34m256\u001b[0m)            │         \u001b[38;5;34m1,024\u001b[0m │\n",
       "│ (\u001b[38;5;33mBatchNormalization\u001b[0m)            │                        │               │\n",
       "├─────────────────────────────────┼────────────────────────┼───────────────┤\n",
       "│ dense_1 (\u001b[38;5;33mDense\u001b[0m)                 │ (\u001b[38;5;45mNone\u001b[0m, \u001b[38;5;34m128\u001b[0m)            │        \u001b[38;5;34m32,768\u001b[0m │\n",
       "├─────────────────────────────────┼────────────────────────┼───────────────┤\n",
       "│ dense_2 (\u001b[38;5;33mDense\u001b[0m)                 │ (\u001b[38;5;45mNone\u001b[0m, \u001b[38;5;34m84\u001b[0m)             │        \u001b[38;5;34m10,752\u001b[0m │\n",
       "├─────────────────────────────────┼────────────────────────┼───────────────┤\n",
       "│ batch_normalization_3           │ (\u001b[38;5;45mNone\u001b[0m, \u001b[38;5;34m84\u001b[0m)             │           \u001b[38;5;34m336\u001b[0m │\n",
       "│ (\u001b[38;5;33mBatchNormalization\u001b[0m)            │                        │               │\n",
       "├─────────────────────────────────┼────────────────────────┼───────────────┤\n",
       "│ dropout_2 (\u001b[38;5;33mDropout\u001b[0m)             │ (\u001b[38;5;45mNone\u001b[0m, \u001b[38;5;34m84\u001b[0m)             │             \u001b[38;5;34m0\u001b[0m │\n",
       "├─────────────────────────────────┼────────────────────────┼───────────────┤\n",
       "│ dense_3 (\u001b[38;5;33mDense\u001b[0m)                 │ (\u001b[38;5;45mNone\u001b[0m, \u001b[38;5;34m1\u001b[0m)              │            \u001b[38;5;34m85\u001b[0m │\n",
       "└─────────────────────────────────┴────────────────────────┴───────────────┘\n"
      ]
     },
     "metadata": {},
     "output_type": "display_data"
    },
    {
     "data": {
      "text/html": [
       "<pre style=\"white-space:pre;overflow-x:auto;line-height:normal;font-family:Menlo,'DejaVu Sans Mono',consolas,'Courier New',monospace\"><span style=\"font-weight: bold\"> Total params: </span><span style=\"color: #00af00; text-decoration-color: #00af00\">2,486,437</span> (9.49 MB)\n",
       "</pre>\n"
      ],
      "text/plain": [
       "\u001b[1m Total params: \u001b[0m\u001b[38;5;34m2,486,437\u001b[0m (9.49 MB)\n"
      ]
     },
     "metadata": {},
     "output_type": "display_data"
    },
    {
     "data": {
      "text/html": [
       "<pre style=\"white-space:pre;overflow-x:auto;line-height:normal;font-family:Menlo,'DejaVu Sans Mono',consolas,'Courier New',monospace\"><span style=\"font-weight: bold\"> Trainable params: </span><span style=\"color: #00af00; text-decoration-color: #00af00\">2,485,565</span> (9.48 MB)\n",
       "</pre>\n"
      ],
      "text/plain": [
       "\u001b[1m Trainable params: \u001b[0m\u001b[38;5;34m2,485,565\u001b[0m (9.48 MB)\n"
      ]
     },
     "metadata": {},
     "output_type": "display_data"
    },
    {
     "data": {
      "text/html": [
       "<pre style=\"white-space:pre;overflow-x:auto;line-height:normal;font-family:Menlo,'DejaVu Sans Mono',consolas,'Courier New',monospace\"><span style=\"font-weight: bold\"> Non-trainable params: </span><span style=\"color: #00af00; text-decoration-color: #00af00\">872</span> (3.41 KB)\n",
       "</pre>\n"
      ],
      "text/plain": [
       "\u001b[1m Non-trainable params: \u001b[0m\u001b[38;5;34m872\u001b[0m (3.41 KB)\n"
      ]
     },
     "metadata": {},
     "output_type": "display_data"
    }
   ],
   "source": [
    "model.summary()"
   ]
  },
  {
   "cell_type": "code",
   "execution_count": 28,
   "id": "6c1c7d61",
   "metadata": {
    "execution": {
     "iopub.execute_input": "2024-07-20T15:42:52.060860Z",
     "iopub.status.busy": "2024-07-20T15:42:52.060277Z",
     "iopub.status.idle": "2024-07-20T15:43:16.972390Z",
     "shell.execute_reply": "2024-07-20T15:43:16.971373Z"
    },
    "papermill": {
     "duration": 24.942848,
     "end_time": "2024-07-20T15:43:16.974428",
     "exception": false,
     "start_time": "2024-07-20T15:42:52.031580",
     "status": "completed"
    },
    "tags": []
   },
   "outputs": [
    {
     "name": "stdout",
     "output_type": "stream",
     "text": [
      "Epoch 1/30\n",
      "\u001b[1m84/84\u001b[0m \u001b[32m━━━━━━━━━━━━━━━━━━━━\u001b[0m\u001b[37m\u001b[0m \u001b[1m0s\u001b[0m 151ms/step - accuracy: 0.8878 - loss: 0.2448\n",
      "Epoch 1: val_loss improved from inf to 1.09913, saving model to bestModel.keras\n",
      "\u001b[1m84/84\u001b[0m \u001b[32m━━━━━━━━━━━━━━━━━━━━\u001b[0m\u001b[37m\u001b[0m \u001b[1m21s\u001b[0m 179ms/step - accuracy: 0.8885 - loss: 0.2433 - val_accuracy: 0.4788 - val_loss: 1.0991\n",
      "Epoch 2/30\n",
      "\u001b[1m84/84\u001b[0m \u001b[32m━━━━━━━━━━━━━━━━━━━━\u001b[0m\u001b[37m\u001b[0m \u001b[1m0s\u001b[0m 150ms/step - accuracy: 0.9926 - loss: 0.0268\n",
      "Epoch 2: val_loss did not improve from 1.09913\n",
      "\u001b[1m84/84\u001b[0m \u001b[32m━━━━━━━━━━━━━━━━━━━━\u001b[0m\u001b[37m\u001b[0m \u001b[1m14s\u001b[0m 165ms/step - accuracy: 0.9926 - loss: 0.0268 - val_accuracy: 0.4932 - val_loss: 2.2985\n",
      "Epoch 3/30\n",
      "\u001b[1m84/84\u001b[0m \u001b[32m━━━━━━━━━━━━━━━━━━━━\u001b[0m\u001b[37m\u001b[0m \u001b[1m0s\u001b[0m 146ms/step - accuracy: 0.9868 - loss: 0.0403\n",
      "Epoch 3: val_loss did not improve from 1.09913\n",
      "\u001b[1m84/84\u001b[0m \u001b[32m━━━━━━━━━━━━━━━━━━━━\u001b[0m\u001b[37m\u001b[0m \u001b[1m14s\u001b[0m 161ms/step - accuracy: 0.9868 - loss: 0.0402 - val_accuracy: 0.6614 - val_loss: 1.2268\n",
      "Epoch 4/30\n",
      "\u001b[1m84/84\u001b[0m \u001b[32m━━━━━━━━━━━━━━━━━━━━\u001b[0m\u001b[37m\u001b[0m \u001b[1m0s\u001b[0m 158ms/step - accuracy: 0.9925 - loss: 0.0195\n",
      "Epoch 4: val_loss improved from 1.09913 to 0.17639, saving model to bestModel.keras\n",
      "\u001b[1m84/84\u001b[0m \u001b[32m━━━━━━━━━━━━━━━━━━━━\u001b[0m\u001b[37m\u001b[0m \u001b[1m15s\u001b[0m 179ms/step - accuracy: 0.9925 - loss: 0.0196 - val_accuracy: 0.9008 - val_loss: 0.1764\n",
      "Epoch 5/30\n",
      "\u001b[1m84/84\u001b[0m \u001b[32m━━━━━━━━━━━━━━━━━━━━\u001b[0m\u001b[37m\u001b[0m \u001b[1m0s\u001b[0m 158ms/step - accuracy: 0.9968 - loss: 0.0155\n",
      "Epoch 5: val_loss improved from 0.17639 to 0.10023, saving model to bestModel.keras\n",
      "\u001b[1m84/84\u001b[0m \u001b[32m━━━━━━━━━━━━━━━━━━━━\u001b[0m\u001b[37m\u001b[0m \u001b[1m15s\u001b[0m 178ms/step - accuracy: 0.9968 - loss: 0.0156 - val_accuracy: 0.9750 - val_loss: 0.1002\n",
      "Epoch 6/30\n",
      "\u001b[1m84/84\u001b[0m \u001b[32m━━━━━━━━━━━━━━━━━━━━\u001b[0m\u001b[37m\u001b[0m \u001b[1m0s\u001b[0m 148ms/step - accuracy: 0.9964 - loss: 0.0125\n",
      "Epoch 6: val_loss improved from 0.10023 to 0.03331, saving model to bestModel.keras\n",
      "\u001b[1m84/84\u001b[0m \u001b[32m━━━━━━━━━━━━━━━━━━━━\u001b[0m\u001b[37m\u001b[0m \u001b[1m14s\u001b[0m 169ms/step - accuracy: 0.9964 - loss: 0.0126 - val_accuracy: 0.9894 - val_loss: 0.0333\n",
      "Epoch 7/30\n",
      "\u001b[1m84/84\u001b[0m \u001b[32m━━━━━━━━━━━━━━━━━━━━\u001b[0m\u001b[37m\u001b[0m \u001b[1m0s\u001b[0m 142ms/step - accuracy: 0.9951 - loss: 0.0137\n",
      "Epoch 7: val_loss improved from 0.03331 to 0.02932, saving model to bestModel.keras\n",
      "\u001b[1m84/84\u001b[0m \u001b[32m━━━━━━━━━━━━━━━━━━━━\u001b[0m\u001b[37m\u001b[0m \u001b[1m14s\u001b[0m 164ms/step - accuracy: 0.9951 - loss: 0.0137 - val_accuracy: 0.9902 - val_loss: 0.0293\n",
      "Epoch 8/30\n",
      "\u001b[1m84/84\u001b[0m \u001b[32m━━━━━━━━━━━━━━━━━━━━\u001b[0m\u001b[37m\u001b[0m \u001b[1m0s\u001b[0m 144ms/step - accuracy: 0.9908 - loss: 0.0283\n",
      "Epoch 8: val_loss did not improve from 0.02932\n",
      "\u001b[1m84/84\u001b[0m \u001b[32m━━━━━━━━━━━━━━━━━━━━\u001b[0m\u001b[37m\u001b[0m \u001b[1m13s\u001b[0m 159ms/step - accuracy: 0.9908 - loss: 0.0282 - val_accuracy: 0.9288 - val_loss: 0.2868\n",
      "Epoch 9/30\n",
      "\u001b[1m84/84\u001b[0m \u001b[32m━━━━━━━━━━━━━━━━━━━━\u001b[0m\u001b[37m\u001b[0m \u001b[1m0s\u001b[0m 147ms/step - accuracy: 0.9932 - loss: 0.0302\n",
      "Epoch 9: val_loss improved from 0.02932 to 0.01901, saving model to bestModel.keras\n",
      "\u001b[1m84/84\u001b[0m \u001b[32m━━━━━━━━━━━━━━━━━━━━\u001b[0m\u001b[37m\u001b[0m \u001b[1m14s\u001b[0m 166ms/step - accuracy: 0.9932 - loss: 0.0300 - val_accuracy: 0.9970 - val_loss: 0.0190\n",
      "Epoch 10/30\n",
      "\u001b[1m84/84\u001b[0m \u001b[32m━━━━━━━━━━━━━━━━━━━━\u001b[0m\u001b[37m\u001b[0m \u001b[1m0s\u001b[0m 139ms/step - accuracy: 0.9962 - loss: 0.0130\n",
      "Epoch 10: val_loss did not improve from 0.01901\n",
      "\u001b[1m84/84\u001b[0m \u001b[32m━━━━━━━━━━━━━━━━━━━━\u001b[0m\u001b[37m\u001b[0m \u001b[1m13s\u001b[0m 154ms/step - accuracy: 0.9962 - loss: 0.0130 - val_accuracy: 0.9970 - val_loss: 0.0211\n",
      "Epoch 11/30\n",
      "\u001b[1m84/84\u001b[0m \u001b[32m━━━━━━━━━━━━━━━━━━━━\u001b[0m\u001b[37m\u001b[0m \u001b[1m0s\u001b[0m 138ms/step - accuracy: 0.9986 - loss: 0.0052\n",
      "Epoch 11: val_loss did not improve from 0.01901\n",
      "\u001b[1m84/84\u001b[0m \u001b[32m━━━━━━━━━━━━━━━━━━━━\u001b[0m\u001b[37m\u001b[0m \u001b[1m13s\u001b[0m 153ms/step - accuracy: 0.9986 - loss: 0.0052 - val_accuracy: 0.9886 - val_loss: 0.0360\n",
      "Epoch 12/30\n",
      "\u001b[1m84/84\u001b[0m \u001b[32m━━━━━━━━━━━━━━━━━━━━\u001b[0m\u001b[37m\u001b[0m \u001b[1m0s\u001b[0m 138ms/step - accuracy: 0.9993 - loss: 0.0022\n",
      "Epoch 12: val_loss did not improve from 0.01901\n",
      "\u001b[1m84/84\u001b[0m \u001b[32m━━━━━━━━━━━━━━━━━━━━\u001b[0m\u001b[37m\u001b[0m \u001b[1m13s\u001b[0m 153ms/step - accuracy: 0.9993 - loss: 0.0022 - val_accuracy: 0.9348 - val_loss: 0.1305\n",
      "Epoch 13/30\n",
      "\u001b[1m84/84\u001b[0m \u001b[32m━━━━━━━━━━━━━━━━━━━━\u001b[0m\u001b[37m\u001b[0m \u001b[1m0s\u001b[0m 142ms/step - accuracy: 0.9913 - loss: 0.0364\n",
      "Epoch 13: val_loss did not improve from 0.01901\n",
      "\u001b[1m84/84\u001b[0m \u001b[32m━━━━━━━━━━━━━━━━━━━━\u001b[0m\u001b[37m\u001b[0m \u001b[1m13s\u001b[0m 159ms/step - accuracy: 0.9913 - loss: 0.0364 - val_accuracy: 0.8894 - val_loss: 0.4153\n",
      "Epoch 14/30\n",
      "\u001b[1m84/84\u001b[0m \u001b[32m━━━━━━━━━━━━━━━━━━━━\u001b[0m\u001b[37m\u001b[0m \u001b[1m0s\u001b[0m 143ms/step - accuracy: 0.9967 - loss: 0.0103\n",
      "Epoch 14: val_loss did not improve from 0.01901\n",
      "\u001b[1m84/84\u001b[0m \u001b[32m━━━━━━━━━━━━━━━━━━━━\u001b[0m\u001b[37m\u001b[0m \u001b[1m13s\u001b[0m 160ms/step - accuracy: 0.9967 - loss: 0.0104 - val_accuracy: 0.9189 - val_loss: 0.1449\n",
      "Epoch 15/30\n",
      "\u001b[1m84/84\u001b[0m \u001b[32m━━━━━━━━━━━━━━━━━━━━\u001b[0m\u001b[37m\u001b[0m \u001b[1m0s\u001b[0m 144ms/step - accuracy: 0.9992 - loss: 0.0041\n",
      "Epoch 15: val_loss did not improve from 0.01901\n",
      "\u001b[1m84/84\u001b[0m \u001b[32m━━━━━━━━━━━━━━━━━━━━\u001b[0m\u001b[37m\u001b[0m \u001b[1m13s\u001b[0m 159ms/step - accuracy: 0.9992 - loss: 0.0042 - val_accuracy: 0.9947 - val_loss: 0.0353\n",
      "Epoch 16/30\n",
      "\u001b[1m84/84\u001b[0m \u001b[32m━━━━━━━━━━━━━━━━━━━━\u001b[0m\u001b[37m\u001b[0m \u001b[1m0s\u001b[0m 143ms/step - accuracy: 0.9958 - loss: 0.0108\n",
      "Epoch 16: val_loss did not improve from 0.01901\n",
      "\u001b[1m84/84\u001b[0m \u001b[32m━━━━━━━━━━━━━━━━━━━━\u001b[0m\u001b[37m\u001b[0m \u001b[1m13s\u001b[0m 158ms/step - accuracy: 0.9958 - loss: 0.0108 - val_accuracy: 0.9795 - val_loss: 0.0628\n",
      "Epoch 17/30\n",
      "\u001b[1m84/84\u001b[0m \u001b[32m━━━━━━━━━━━━━━━━━━━━\u001b[0m\u001b[37m\u001b[0m \u001b[1m0s\u001b[0m 139ms/step - accuracy: 0.9994 - loss: 0.0033\n",
      "Epoch 17: val_loss did not improve from 0.01901\n",
      "\u001b[1m84/84\u001b[0m \u001b[32m━━━━━━━━━━━━━━━━━━━━\u001b[0m\u001b[37m\u001b[0m \u001b[1m13s\u001b[0m 156ms/step - accuracy: 0.9994 - loss: 0.0032 - val_accuracy: 0.9939 - val_loss: 0.0281\n",
      "Epoch 18/30\n",
      "\u001b[1m84/84\u001b[0m \u001b[32m━━━━━━━━━━━━━━━━━━━━\u001b[0m\u001b[37m\u001b[0m \u001b[1m0s\u001b[0m 141ms/step - accuracy: 0.9988 - loss: 0.0082\n",
      "Epoch 18: val_loss did not improve from 0.01901\n",
      "\u001b[1m84/84\u001b[0m \u001b[32m━━━━━━━━━━━━━━━━━━━━\u001b[0m\u001b[37m\u001b[0m \u001b[1m13s\u001b[0m 157ms/step - accuracy: 0.9988 - loss: 0.0081 - val_accuracy: 0.8788 - val_loss: 0.3764\n",
      "Epoch 19/30\n",
      "\u001b[1m84/84\u001b[0m \u001b[32m━━━━━━━━━━━━━━━━━━━━\u001b[0m\u001b[37m\u001b[0m \u001b[1m0s\u001b[0m 145ms/step - accuracy: 1.0000 - loss: 8.9663e-04\n",
      "Epoch 19: val_loss did not improve from 0.01901\n",
      "\u001b[1m84/84\u001b[0m \u001b[32m━━━━━━━━━━━━━━━━━━━━\u001b[0m\u001b[37m\u001b[0m \u001b[1m14s\u001b[0m 161ms/step - accuracy: 1.0000 - loss: 9.0898e-04 - val_accuracy: 0.9879 - val_loss: 0.0450\n",
      "Epoch 20/30\n",
      "\u001b[1m84/84\u001b[0m \u001b[32m━━━━━━━━━━━━━━━━━━━━\u001b[0m\u001b[37m\u001b[0m \u001b[1m0s\u001b[0m 145ms/step - accuracy: 0.9931 - loss: 0.0281\n",
      "Epoch 20: val_loss did not improve from 0.01901\n",
      "\u001b[1m84/84\u001b[0m \u001b[32m━━━━━━━━━━━━━━━━━━━━\u001b[0m\u001b[37m\u001b[0m \u001b[1m14s\u001b[0m 165ms/step - accuracy: 0.9932 - loss: 0.0279 - val_accuracy: 0.8121 - val_loss: 0.4112\n",
      "Epoch 21/30\n",
      "\u001b[1m84/84\u001b[0m \u001b[32m━━━━━━━━━━━━━━━━━━━━\u001b[0m\u001b[37m\u001b[0m \u001b[1m0s\u001b[0m 180ms/step - accuracy: 0.9991 - loss: 0.0042\n",
      "Epoch 21: val_loss did not improve from 0.01901\n",
      "\u001b[1m84/84\u001b[0m \u001b[32m━━━━━━━━━━━━━━━━━━━━\u001b[0m\u001b[37m\u001b[0m \u001b[1m17s\u001b[0m 200ms/step - accuracy: 0.9991 - loss: 0.0042 - val_accuracy: 0.9553 - val_loss: 0.1738\n",
      "Epoch 22/30\n",
      "\u001b[1m84/84\u001b[0m \u001b[32m━━━━━━━━━━━━━━━━━━━━\u001b[0m\u001b[37m\u001b[0m \u001b[1m0s\u001b[0m 182ms/step - accuracy: 0.9869 - loss: 0.0367\n",
      "Epoch 22: val_loss did not improve from 0.01901\n",
      "\u001b[1m84/84\u001b[0m \u001b[32m━━━━━━━━━━━━━━━━━━━━\u001b[0m\u001b[37m\u001b[0m \u001b[1m17s\u001b[0m 203ms/step - accuracy: 0.9870 - loss: 0.0366 - val_accuracy: 0.9818 - val_loss: 0.0610\n",
      "Epoch 23/30\n",
      "\u001b[1m84/84\u001b[0m \u001b[32m━━━━━━━━━━━━━━━━━━━━\u001b[0m\u001b[37m\u001b[0m \u001b[1m0s\u001b[0m 180ms/step - accuracy: 0.9945 - loss: 0.0168\n",
      "Epoch 23: val_loss did not improve from 0.01901\n",
      "\u001b[1m84/84\u001b[0m \u001b[32m━━━━━━━━━━━━━━━━━━━━\u001b[0m\u001b[37m\u001b[0m \u001b[1m17s\u001b[0m 201ms/step - accuracy: 0.9945 - loss: 0.0168 - val_accuracy: 0.9947 - val_loss: 0.0275\n",
      "Epoch 24/30\n",
      "\u001b[1m84/84\u001b[0m \u001b[32m━━━━━━━━━━━━━━━━━━━━\u001b[0m\u001b[37m\u001b[0m \u001b[1m0s\u001b[0m 175ms/step - accuracy: 0.9992 - loss: 0.0034\n",
      "Epoch 24: val_loss did not improve from 0.01901\n",
      "\u001b[1m84/84\u001b[0m \u001b[32m━━━━━━━━━━━━━━━━━━━━\u001b[0m\u001b[37m\u001b[0m \u001b[1m17s\u001b[0m 197ms/step - accuracy: 0.9992 - loss: 0.0034 - val_accuracy: 0.9788 - val_loss: 0.0693\n",
      "Epoch 25/30\n",
      "\u001b[1m84/84\u001b[0m \u001b[32m━━━━━━━━━━━━━━━━━━━━\u001b[0m\u001b[37m\u001b[0m \u001b[1m0s\u001b[0m 142ms/step - accuracy: 0.9987 - loss: 0.0037\n",
      "Epoch 25: val_loss did not improve from 0.01901\n",
      "\u001b[1m84/84\u001b[0m \u001b[32m━━━━━━━━━━━━━━━━━━━━\u001b[0m\u001b[37m\u001b[0m \u001b[1m13s\u001b[0m 155ms/step - accuracy: 0.9987 - loss: 0.0038 - val_accuracy: 0.9379 - val_loss: 0.2399\n",
      "Epoch 26/30\n",
      "\u001b[1m84/84\u001b[0m \u001b[32m━━━━━━━━━━━━━━━━━━━━\u001b[0m\u001b[37m\u001b[0m \u001b[1m0s\u001b[0m 133ms/step - accuracy: 0.9935 - loss: 0.0257\n",
      "Epoch 26: val_loss did not improve from 0.01901\n",
      "\u001b[1m84/84\u001b[0m \u001b[32m━━━━━━━━━━━━━━━━━━━━\u001b[0m\u001b[37m\u001b[0m \u001b[1m13s\u001b[0m 149ms/step - accuracy: 0.9935 - loss: 0.0256 - val_accuracy: 0.9970 - val_loss: 0.0205\n",
      "Epoch 27/30\n",
      "\u001b[1m84/84\u001b[0m \u001b[32m━━━━━━━━━━━━━━━━━━━━\u001b[0m\u001b[37m\u001b[0m \u001b[1m0s\u001b[0m 134ms/step - accuracy: 0.9968 - loss: 0.0117\n",
      "Epoch 27: val_loss did not improve from 0.01901\n",
      "\u001b[1m84/84\u001b[0m \u001b[32m━━━━━━━━━━━━━━━━━━━━\u001b[0m\u001b[37m\u001b[0m \u001b[1m12s\u001b[0m 147ms/step - accuracy: 0.9968 - loss: 0.0116 - val_accuracy: 0.9924 - val_loss: 0.0281\n",
      "Epoch 28/30\n",
      "\u001b[1m84/84\u001b[0m \u001b[32m━━━━━━━━━━━━━━━━━━━━\u001b[0m\u001b[37m\u001b[0m \u001b[1m0s\u001b[0m 140ms/step - accuracy: 0.9989 - loss: 0.0076\n",
      "Epoch 28: val_loss did not improve from 0.01901\n",
      "\u001b[1m84/84\u001b[0m \u001b[32m━━━━━━━━━━━━━━━━━━━━\u001b[0m\u001b[37m\u001b[0m \u001b[1m13s\u001b[0m 156ms/step - accuracy: 0.9989 - loss: 0.0075 - val_accuracy: 0.9947 - val_loss: 0.0320\n",
      "Epoch 29/30\n",
      "\u001b[1m84/84\u001b[0m \u001b[32m━━━━━━━━━━━━━━━━━━━━\u001b[0m\u001b[37m\u001b[0m \u001b[1m0s\u001b[0m 133ms/step - accuracy: 0.9990 - loss: 0.0017\n",
      "Epoch 29: val_loss improved from 0.01901 to 0.01206, saving model to bestModel.keras\n",
      "\u001b[1m84/84\u001b[0m \u001b[32m━━━━━━━━━━━━━━━━━━━━\u001b[0m\u001b[37m\u001b[0m \u001b[1m13s\u001b[0m 151ms/step - accuracy: 0.9990 - loss: 0.0017 - val_accuracy: 0.9970 - val_loss: 0.0121\n",
      "Epoch 30/30\n",
      "\u001b[1m84/84\u001b[0m \u001b[32m━━━━━━━━━━━━━━━━━━━━\u001b[0m\u001b[37m\u001b[0m \u001b[1m0s\u001b[0m 133ms/step - accuracy: 0.9999 - loss: 7.9336e-04\n",
      "Epoch 30: val_loss did not improve from 0.01206\n",
      "\u001b[1m84/84\u001b[0m \u001b[32m━━━━━━━━━━━━━━━━━━━━\u001b[0m\u001b[37m\u001b[0m \u001b[1m12s\u001b[0m 147ms/step - accuracy: 0.9999 - loss: 8.0209e-04 - val_accuracy: 0.9970 - val_loss: 0.0127\n"
     ]
    }
   ],
   "source": [
    "# callback = tf.keras.callbacks.ModelCheckpoint(\n",
    "#     filepath='bestModel.h5',\n",
    "#     save_weights_only=False,\n",
    "#     monitor='val_loss',\n",
    "#     mode='min',\n",
    "#     save_best_only=True,\n",
    "#     verbose =1)\n",
    "# history=model.fit(x_train, y_train, validation_split=0.2, epochs=30, batch_size=32,validation_data=x_test, callbacks=callback)\n",
    "\n",
    "callback = tf.keras.callbacks.ModelCheckpoint(\n",
    "    filepath='bestModel.keras',\n",
    "    save_weights_only=False,\n",
    "    monitor='val_loss',\n",
    "    mode='min',\n",
    "    save_best_only=True,\n",
    "    verbose=1)\n",
    "history = model.fit(x_train, y_train, validation_split=0.2, epochs=30, batch_size=32, validation_data=(x_test, y_test), callbacks=callback)"
   ]
  },
  {
   "cell_type": "code",
   "execution_count": 26,
   "id": "9b846db3",
   "metadata": {
    "execution": {
     "iopub.execute_input": "2024-07-20T15:43:17.083592Z",
     "iopub.status.busy": "2024-07-20T15:43:17.083239Z",
     "iopub.status.idle": "2024-07-20T15:43:17.290353Z",
     "shell.execute_reply": "2024-07-20T15:43:17.289392Z"
    },
    "papermill": {
     "duration": 0.264841,
     "end_time": "2024-07-20T15:43:17.293013",
     "exception": false,
     "start_time": "2024-07-20T15:43:17.028172",
     "status": "completed"
    },
    "tags": []
   },
   "outputs": [
    {
     "data": {
      "image/png": "[encoded data removed]",
      "text/plain": [
       "<Figure size 640x480 with 1 Axes>"
      ]
     },
     "metadata": {},
     "output_type": "display_data"
    }
   ],
   "source": [
    "import matplotlib.pyplot as plt\n",
    "plt.plot(history.history['accuracy'],color='red',label='train')\n",
    "plt.plot(history.history['val_accuracy'],color='blue',label='test')\n",
    "plt.show()"
   ]
  },
  {
   "cell_type": "code",
   "execution_count": 27,
   "id": "f343c9cd",
   "metadata": {
    "execution": {
     "iopub.execute_input": "2024-07-20T15:43:17.409489Z",
     "iopub.status.busy": "2024-07-20T15:43:17.408904Z",
     "iopub.status.idle": "2024-07-20T15:43:17.600901Z",
     "shell.execute_reply": "2024-07-20T15:43:17.600004Z"
    },
    "papermill": {
     "duration": 0.252866,
     "end_time": "2024-07-20T15:43:17.603021",
     "exception": false,
     "start_time": "2024-07-20T15:43:17.350155",
     "status": "completed"
    },
    "tags": []
   },
   "outputs": [
    {
     "data": {
      "image/png": "[encoded data removed]",
      "text/plain": [
       "<Figure size 640x480 with 1 Axes>"
      ]
     },
     "metadata": {},
     "output_type": "display_data"
    }
   ],
   "source": [
    "plt.plot(history.history['loss'],color='red',label='train')\n",
    "plt.plot(history.history['val_loss'],color='blue',label='test')\n",
    "plt.show()"
   ]
  },
  {
   "cell_type": "code",
   "execution_count": 28,
   "id": "d02a1481",
   "metadata": {
    "execution": {
     "iopub.execute_input": "2024-07-20T15:43:17.710520Z",
     "iopub.status.busy": "2024-07-20T15:43:17.710206Z",
     "iopub.status.idle": "2024-07-20T15:43:17.952210Z",
     "shell.execute_reply": "2024-07-20T15:43:17.951203Z"
    },
    "papermill": {
     "duration": 0.297864,
     "end_time": "2024-07-20T15:43:17.954286",
     "exception": false,
     "start_time": "2024-07-20T15:43:17.656422",
     "status": "completed"
    },
    "tags": []
   },
   "outputs": [
    {
     "name": "stdout",
     "output_type": "stream",
     "text": [
      "\u001b[1m42/42\u001b[0m \u001b[32m━━━━━━━━━━━━━━━━━━━━\u001b[0m\u001b[37m\u001b[0m \u001b[1m2s\u001b[0m 37ms/step - accuracy: 0.8187 - loss: 0.7177\n"
     ]
    },
    {
     "data": {
      "text/plain": [
       "[0.6090638637542725, 0.8378787636756897]"
      ]
     },
     "execution_count": 28,
     "metadata": {},
     "output_type": "execute_result"
    }
   ],
   "source": [
    "model.evaluate(x_test, y_test)"
   ]
  },
  {
   "cell_type": "code",
   "execution_count": 8,
   "id": "ce62f796",
   "metadata": {
    "execution": {
     "iopub.execute_input": "2024-07-20T15:43:18.064188Z",
     "iopub.status.busy": "2024-07-20T15:43:18.063814Z",
     "iopub.status.idle": "2024-07-20T15:43:18.654896Z",
     "shell.execute_reply": "2024-07-20T15:43:18.653955Z"
    },
    "papermill": {
     "duration": 0.6486,
     "end_time": "2024-07-20T15:43:18.656978",
     "exception": false,
     "start_time": "2024-07-20T15:43:18.008378",
     "status": "completed"
    },
    "tags": []
   },
   "outputs": [],
   "source": [
    "from keras.models import load_model\n",
    "best_model = load_model('bestModel.keras')\n",
    "# best_model.evaluate(x_test, y_test)"
   ]
  },
  {
   "cell_type": "code",
   "execution_count": 6,
   "id": "3785324e",
   "metadata": {
    "execution": {
     "iopub.execute_input": "2024-07-20T15:43:18.766082Z",
     "iopub.status.busy": "2024-07-20T15:43:18.765700Z",
     "iopub.status.idle": "2024-07-20T15:43:18.777674Z",
     "shell.execute_reply": "2024-07-20T15:43:18.776745Z"
    },
    "papermill": {
     "duration": 0.068758,
     "end_time": "2024-07-20T15:43:18.779675",
     "exception": false,
     "start_time": "2024-07-20T15:43:18.710917",
     "status": "completed"
    },
    "tags": []
   },
   "outputs": [
    {
     "data": {
      "text/plain": [
       "array([[[[0.16078431],\n",
       "         [0.16862745],\n",
       "         [0.16470588],\n",
       "         ...,\n",
       "         [0.29803922],\n",
       "         [0.3254902 ],\n",
       "         [0.34509804]],\n",
       "\n",
       "        [[0.14117647],\n",
       "         [0.14117647],\n",
       "         [0.1372549 ],\n",
       "         ...,\n",
       "         [0.23921569],\n",
       "         [0.25490196],\n",
       "         [0.29803922]],\n",
       "\n",
       "        [[0.10980392],\n",
       "         [0.11372549],\n",
       "         [0.10588235],\n",
       "         ...,\n",
       "         [0.23529412],\n",
       "         [0.2       ],\n",
       "         [0.22352941]],\n",
       "\n",
       "        ...,\n",
       "\n",
       "        [[0.31372549],\n",
       "         [0.32156863],\n",
       "         [0.34117647],\n",
       "         ...,\n",
       "         [0.50588235],\n",
       "         [0.47058824],\n",
       "         [0.43137255]],\n",
       "\n",
       "        [[0.31764706],\n",
       "         [0.32941176],\n",
       "         [0.34117647],\n",
       "         ...,\n",
       "         [0.49411765],\n",
       "         [0.45098039],\n",
       "         [0.41960784]],\n",
       "\n",
       "        [[0.31764706],\n",
       "         [0.34117647],\n",
       "         [0.34509804],\n",
       "         ...,\n",
       "         [0.45882353],\n",
       "         [0.41960784],\n",
       "         [0.41176471]]],\n",
       "\n",
       "\n",
       "       [[[0.35686275],\n",
       "         [0.37254902],\n",
       "         [0.36862745],\n",
       "         ...,\n",
       "         [0.80784314],\n",
       "         [0.81568627],\n",
       "         [0.80392157]],\n",
       "\n",
       "        [[0.34901961],\n",
       "         [0.36470588],\n",
       "         [0.36078431],\n",
       "         ...,\n",
       "         [0.8       ],\n",
       "         [0.80784314],\n",
       "         [0.80784314]],\n",
       "\n",
       "        [[0.3372549 ],\n",
       "         [0.35686275],\n",
       "         [0.35294118],\n",
       "         ...,\n",
       "         [0.78823529],\n",
       "         [0.79215686],\n",
       "         [0.80392157]],\n",
       "\n",
       "        ...,\n",
       "\n",
       "        [[0.32941176],\n",
       "         [0.33333333],\n",
       "         [0.32156863],\n",
       "         ...,\n",
       "         [0.5372549 ],\n",
       "         [0.53333333],\n",
       "         [0.54117647]],\n",
       "\n",
       "        [[0.32941176],\n",
       "         [0.33333333],\n",
       "         [0.32941176],\n",
       "         ...,\n",
       "         [0.53333333],\n",
       "         [0.52941176],\n",
       "         [0.54117647]],\n",
       "\n",
       "        [[0.32941176],\n",
       "         [0.33333333],\n",
       "         [0.32941176],\n",
       "         ...,\n",
       "         [0.5254902 ],\n",
       "         [0.5254902 ],\n",
       "         [0.52941176]]],\n",
       "\n",
       "\n",
       "       [[[0.18039216],\n",
       "         [0.19215686],\n",
       "         [0.20392157],\n",
       "         ...,\n",
       "         [0.41176471],\n",
       "         [0.42745098],\n",
       "         [0.45098039]],\n",
       "\n",
       "        [[0.16470588],\n",
       "         [0.17647059],\n",
       "         [0.17254902],\n",
       "         ...,\n",
       "         [0.37254902],\n",
       "         [0.38823529],\n",
       "         [0.41960784]],\n",
       "\n",
       "        [[0.14117647],\n",
       "         [0.14509804],\n",
       "         [0.1372549 ],\n",
       "         ...,\n",
       "         [0.29411765],\n",
       "         [0.34509804],\n",
       "         [0.35294118]],\n",
       "\n",
       "        ...,\n",
       "\n",
       "        [[0.36470588],\n",
       "         [0.36470588],\n",
       "         [0.37254902],\n",
       "         ...,\n",
       "         [0.38039216],\n",
       "         [0.36078431],\n",
       "         [0.34901961]],\n",
       "\n",
       "        [[0.36862745],\n",
       "         [0.37647059],\n",
       "         [0.37647059],\n",
       "         ...,\n",
       "         [0.37254902],\n",
       "         [0.35686275],\n",
       "         [0.35686275]],\n",
       "\n",
       "        [[0.37254902],\n",
       "         [0.38039216],\n",
       "         [0.38431373],\n",
       "         ...,\n",
       "         [0.36862745],\n",
       "         [0.36470588],\n",
       "         [0.37254902]]],\n",
       "\n",
       "\n",
       "       ...,\n",
       "\n",
       "\n",
       "       [[[0.2627451 ],\n",
       "         [0.26666667],\n",
       "         [0.26666667],\n",
       "         ...,\n",
       "         [0.47058824],\n",
       "         [0.45882353],\n",
       "         [0.4627451 ]],\n",
       "\n",
       "        [[0.25490196],\n",
       "         [0.2627451 ],\n",
       "         [0.26666667],\n",
       "         ...,\n",
       "         [0.4745098 ],\n",
       "         [0.46666667],\n",
       "         [0.4627451 ]],\n",
       "\n",
       "        [[0.24705882],\n",
       "         [0.25490196],\n",
       "         [0.25490196],\n",
       "         ...,\n",
       "         [0.47058824],\n",
       "         [0.46666667],\n",
       "         [0.4627451 ]],\n",
       "\n",
       "        ...,\n",
       "\n",
       "        [[0.30588235],\n",
       "         [0.31372549],\n",
       "         [0.3254902 ],\n",
       "         ...,\n",
       "         [0.35686275],\n",
       "         [0.35294118],\n",
       "         [0.35686275]],\n",
       "\n",
       "        [[0.30980392],\n",
       "         [0.31764706],\n",
       "         [0.32156863],\n",
       "         ...,\n",
       "         [0.36470588],\n",
       "         [0.35686275],\n",
       "         [0.35686275]],\n",
       "\n",
       "        [[0.31372549],\n",
       "         [0.31764706],\n",
       "         [0.32156863],\n",
       "         ...,\n",
       "         [0.35686275],\n",
       "         [0.35686275],\n",
       "         [0.35294118]]],\n",
       "\n",
       "\n",
       "       [[[0.15686275],\n",
       "         [0.17647059],\n",
       "         [0.19607843],\n",
       "         ...,\n",
       "         [0.40784314],\n",
       "         [0.40392157],\n",
       "         [0.41176471]],\n",
       "\n",
       "        [[0.16470588],\n",
       "         [0.18039216],\n",
       "         [0.19607843],\n",
       "         ...,\n",
       "         [0.40784314],\n",
       "         [0.40392157],\n",
       "         [0.40392157]],\n",
       "\n",
       "        [[0.17647059],\n",
       "         [0.18431373],\n",
       "         [0.19215686],\n",
       "         ...,\n",
       "         [0.41176471],\n",
       "         [0.4       ],\n",
       "         [0.39607843]],\n",
       "\n",
       "        ...,\n",
       "\n",
       "        [[0.21960784],\n",
       "         [0.23529412],\n",
       "         [0.23921569],\n",
       "         ...,\n",
       "         [0.33333333],\n",
       "         [0.34509804],\n",
       "         [0.34117647]],\n",
       "\n",
       "        [[0.22745098],\n",
       "         [0.22745098],\n",
       "         [0.23921569],\n",
       "         ...,\n",
       "         [0.34117647],\n",
       "         [0.34509804],\n",
       "         [0.34117647]],\n",
       "\n",
       "        [[0.23529412],\n",
       "         [0.23921569],\n",
       "         [0.23921569],\n",
       "         ...,\n",
       "         [0.33333333],\n",
       "         [0.3372549 ],\n",
       "         [0.34509804]]],\n",
       "\n",
       "\n",
       "       [[[0.29411765],\n",
       "         [0.29411765],\n",
       "         [0.30196078],\n",
       "         ...,\n",
       "         [0.46666667],\n",
       "         [0.47058824],\n",
       "         [0.46666667]],\n",
       "\n",
       "        [[0.29411765],\n",
       "         [0.29803922],\n",
       "         [0.30196078],\n",
       "         ...,\n",
       "         [0.47058824],\n",
       "         [0.45882353],\n",
       "         [0.45098039]],\n",
       "\n",
       "        [[0.28235294],\n",
       "         [0.29019608],\n",
       "         [0.29803922],\n",
       "         ...,\n",
       "         [0.46666667],\n",
       "         [0.4627451 ],\n",
       "         [0.45098039]],\n",
       "\n",
       "        ...,\n",
       "\n",
       "        [[0.34509804],\n",
       "         [0.36078431],\n",
       "         [0.36078431],\n",
       "         ...,\n",
       "         [0.37647059],\n",
       "         [0.37254902],\n",
       "         [0.37254902]],\n",
       "\n",
       "        [[0.34509804],\n",
       "         [0.34509804],\n",
       "         [0.34509804],\n",
       "         ...,\n",
       "         [0.37254902],\n",
       "         [0.36470588],\n",
       "         [0.36078431]],\n",
       "\n",
       "        [[0.34117647],\n",
       "         [0.34509804],\n",
       "         [0.34509804],\n",
       "         ...,\n",
       "         [0.36470588],\n",
       "         [0.35686275],\n",
       "         [0.35686275]]]])"
      ]
     },
     "execution_count": 6,
     "metadata": {},
     "output_type": "execute_result"
    }
   ],
   "source": [
    "x_test"
   ]
  },
  {
   "cell_type": "code",
   "execution_count": 29,
   "id": "5a75a1db",
   "metadata": {
    "execution": {
     "iopub.execute_input": "2024-07-20T15:43:18.888870Z",
     "iopub.status.busy": "2024-07-20T15:43:18.888576Z",
     "iopub.status.idle": "2024-07-20T15:43:19.897895Z",
     "shell.execute_reply": "2024-07-20T15:43:19.896683Z"
    },
    "papermill": {
     "duration": 1.066517,
     "end_time": "2024-07-20T15:43:19.900271",
     "exception": false,
     "start_time": "2024-07-20T15:43:18.833754",
     "status": "completed"
    },
    "tags": []
   },
   "outputs": [
    {
     "ename": "ValueError",
     "evalue": "Exception encountered when calling Sequential.call().\n\n\u001b[1mCannot take the length of shape with unknown rank.\u001b[0m\n\nArguments received by Sequential.call():\n  • inputs=tf.Tensor(shape=<unknown>, dtype=float32)\n  • training=False\n  • mask=None",
     "output_type": "error",
     "traceback": [
      "\u001b[1;31m---------------------------------------------------------------------------\u001b[0m",
      "\u001b[1;31mValueError\u001b[0m                                Traceback (most recent call last)",
      "Cell \u001b[1;32mIn[29], line 2\u001b[0m\n\u001b[0;32m      1\u001b[0m \u001b[38;5;28;01mfor\u001b[39;00m i \u001b[38;5;129;01min\u001b[39;00m x_test[\u001b[38;5;241m0\u001b[39m:\u001b[38;5;241m5\u001b[39m]:\n\u001b[1;32m----> 2\u001b[0m     result \u001b[38;5;241m=\u001b[39m \u001b[43mbest_model\u001b[49m\u001b[38;5;241;43m.\u001b[39;49m\u001b[43mpredict\u001b[49m\u001b[43m(\u001b[49m\u001b[43mnp\u001b[49m\u001b[38;5;241;43m.\u001b[39;49m\u001b[43mexpand_dims\u001b[49m\u001b[43m(\u001b[49m\u001b[43mi\u001b[49m\u001b[43m,\u001b[49m\u001b[38;5;241;43m0\u001b[39;49m\u001b[43m)\u001b[49m\u001b[43m)\u001b[49m\n\u001b[0;32m      3\u001b[0m     plt\u001b[38;5;241m.\u001b[39mimshow(i)\n\u001b[0;32m      4\u001b[0m     plt\u001b[38;5;241m.\u001b[39mshow()\n",
      "File \u001b[1;32mc:\\Users\\abhij\\OneDrive\\Documents\\Abhijit\\Codes\\Mini Project 6th sem\\Final_itseems\\virtualenv\\Lib\\site-packages\\keras\\src\\utils\\traceback_utils.py:122\u001b[0m, in \u001b[0;36mfilter_traceback.<locals>.error_handler\u001b[1;34m(*args, **kwargs)\u001b[0m\n\u001b[0;32m    119\u001b[0m     filtered_tb \u001b[38;5;241m=\u001b[39m _process_traceback_frames(e\u001b[38;5;241m.\u001b[39m__traceback__)\n\u001b[0;32m    120\u001b[0m     \u001b[38;5;66;03m# To get the full stack trace, call:\u001b[39;00m\n\u001b[0;32m    121\u001b[0m     \u001b[38;5;66;03m# `keras.config.disable_traceback_filtering()`\u001b[39;00m\n\u001b[1;32m--> 122\u001b[0m     \u001b[38;5;28;01mraise\u001b[39;00m e\u001b[38;5;241m.\u001b[39mwith_traceback(filtered_tb) \u001b[38;5;28;01mfrom\u001b[39;00m \u001b[38;5;28;01mNone\u001b[39;00m\n\u001b[0;32m    123\u001b[0m \u001b[38;5;28;01mfinally\u001b[39;00m:\n\u001b[0;32m    124\u001b[0m     \u001b[38;5;28;01mdel\u001b[39;00m filtered_tb\n",
      "File \u001b[1;32mc:\\Users\\abhij\\OneDrive\\Documents\\Abhijit\\Codes\\Mini Project 6th sem\\Final_itseems\\virtualenv\\Lib\\site-packages\\keras\\src\\utils\\traceback_utils.py:122\u001b[0m, in \u001b[0;36mfilter_traceback.<locals>.error_handler\u001b[1;34m(*args, **kwargs)\u001b[0m\n\u001b[0;32m    119\u001b[0m     filtered_tb \u001b[38;5;241m=\u001b[39m _process_traceback_frames(e\u001b[38;5;241m.\u001b[39m__traceback__)\n\u001b[0;32m    120\u001b[0m     \u001b[38;5;66;03m# To get the full stack trace, call:\u001b[39;00m\n\u001b[0;32m    121\u001b[0m     \u001b[38;5;66;03m# `keras.config.disable_traceback_filtering()`\u001b[39;00m\n\u001b[1;32m--> 122\u001b[0m     \u001b[38;5;28;01mraise\u001b[39;00m e\u001b[38;5;241m.\u001b[39mwith_traceback(filtered_tb) \u001b[38;5;28;01mfrom\u001b[39;00m \u001b[38;5;28;01mNone\u001b[39;00m\n\u001b[0;32m    123\u001b[0m \u001b[38;5;28;01mfinally\u001b[39;00m:\n\u001b[0;32m    124\u001b[0m     \u001b[38;5;28;01mdel\u001b[39;00m filtered_tb\n",
      "\u001b[1;31mValueError\u001b[0m: Exception encountered when calling Sequential.call().\n\n\u001b[1mCannot take the length of shape with unknown rank.\u001b[0m\n\nArguments received by Sequential.call():\n  • inputs=tf.Tensor(shape=<unknown>, dtype=float32)\n  • training=False\n  • mask=None"
     ]
    }
   ],
   "source": [
    "for i in x_test[0:5]:\n",
    "    result = best_model.predict(np.expand_dims(i,0))\n",
    "    plt.imshow(i)\n",
    "    plt.show()\n",
    "    \n",
    "    if result > 0.5:\n",
    "        print('Open')\n",
    "    else:\n",
    "        print(\"Closed\")\n",
    "    "
   ]
  },
  {
   "cell_type": "code",
   "execution_count": null,
   "id": "c049ea00",
   "metadata": {},
   "outputs": [
    {
     "name": "stdout",
     "output_type": "stream",
     "text": [
      "\u001b[1m1/1\u001b[0m \u001b[32m━━━━━━━━━━━━━━━━━━━━\u001b[0m\u001b[37m\u001b[0m \u001b[1m0s\u001b[0m 57ms/step\n",
      "Open\n"
     ]
    },
    {
     "data": {
      "image/png": "[encoded data removed]",
      "text/plain": [
       "<Figure size 640x480 with 1 Axes>"
      ]
     },
     "metadata": {},
     "output_type": "display_data"
    }
   ],
   "source": [
    "random_image=x_test[np.random.randint(0,1321)]\n",
    "predicted=best_model.predict(np.expand_dims(random_image,0))\n",
    "plt.imshow(random_image)\n",
    "if predicted>0.5:\n",
    "    print(\"Open\")\n",
    "else:\n",
    "    print(\"Close\")"
   ]
  },
  {
   "cell_type": "code",
   "execution_count": null,
   "id": "c299c9e0",
   "metadata": {
    "execution": {
     "iopub.execute_input": "2024-07-20T15:43:20.015774Z",
     "iopub.status.busy": "2024-07-20T15:43:20.014879Z",
     "iopub.status.idle": "2024-07-20T15:43:20.477897Z",
     "shell.execute_reply": "2024-07-20T15:43:20.476904Z"
    },
    "papermill": {
     "duration": 0.522342,
     "end_time": "2024-07-20T15:43:20.480123",
     "exception": false,
     "start_time": "2024-07-20T15:43:19.957781",
     "status": "completed"
    },
    "tags": []
   },
   "outputs": [
    {
     "name": "stdout",
     "output_type": "stream",
     "text": [
      "\u001b[1m42/42\u001b[0m \u001b[32m━━━━━━━━━━━━━━━━━━━━\u001b[0m\u001b[37m\u001b[0m \u001b[1m2s\u001b[0m 40ms/step\n"
     ]
    },
    {
     "data": {
      "text/plain": [
       "Text(0.5, 25.722222222222214, 'Actual')"
      ]
     },
     "execution_count": 58,
     "metadata": {},
     "output_type": "execute_result"
    },
    {
     "data": {
      "image/png": "[encoded data removed]",
      "text/plain": [
       "<Figure size 1500x500 with 2 Axes>"
      ]
     },
     "metadata": {},
     "output_type": "display_data"
    }
   ],
   "source": [
    "from sklearn.metrics import confusion_matrix\n",
    "import seaborn as sns\n",
    "\n",
    "plt.figure(figsize=(15, 5))\n",
    "\n",
    "preds = best_model.predict(x_test)\n",
    "preds = (preds >= 0.5).astype(np.int32)\n",
    "cm = confusion_matrix(y_test, preds)\n",
    "df_cm = pd.DataFrame(cm, index=['closed', 'Open'], columns=['Closed', 'Open'])\n",
    "plt.subplot(121)\n",
    "plt.title(\"Confusion matrix\\n\")\n",
    "sns.heatmap(df_cm, annot=True, fmt=\"d\", cmap=\"YlGnBu\")\n",
    "plt.ylabel(\"Predicted\")\n",
    "plt.xlabel(\"Actual\")"
   ]
  },
  {
   "cell_type": "code",
   "execution_count": 17,
   "id": "8a1d083e",
   "metadata": {
    "execution": {
     "iopub.execute_input": "2024-07-20T15:43:20.595684Z",
     "iopub.status.busy": "2024-07-20T15:43:20.594877Z",
     "iopub.status.idle": "2024-07-20T15:43:20.598953Z",
     "shell.execute_reply": "2024-07-20T15:43:20.598061Z"
    },
    "papermill": {
     "duration": 0.063658,
     "end_time": "2024-07-20T15:43:20.601022",
     "exception": false,
     "start_time": "2024-07-20T15:43:20.537364",
     "status": "completed"
    },
    "tags": []
   },
   "outputs": [],
   "source": [
    "# img = best_model.predict('/kaggle/input/testing2/OIP (1).jpg')\n",
    "# temp = cv2.resize(img,64,64)"
   ]
  },
  {
   "cell_type": "code",
   "execution_count": 137,
   "id": "21ba1b54",
   "metadata": {
    "execution": {
     "iopub.execute_input": "2024-07-20T15:43:20.715823Z",
     "iopub.status.busy": "2024-07-20T15:43:20.715039Z",
     "iopub.status.idle": "2024-07-20T15:43:20.729362Z",
     "shell.execute_reply": "2024-07-20T15:43:20.728472Z"
    },
    "papermill": {
     "duration": 0.074333,
     "end_time": "2024-07-20T15:43:20.731598",
     "exception": false,
     "start_time": "2024-07-20T15:43:20.657265",
     "status": "completed"
    },
    "tags": []
   },
   "outputs": [
    {
     "name": "stderr",
     "output_type": "stream",
     "text": [
      "100%|██████████| 1/1 [00:00<00:00, 988.76it/s]\n"
     ]
    }
   ],
   "source": [
    "X1= []\n",
    "\n",
    "\n",
    "for i in tqdm(glob('man_face.jpeg')):\n",
    "    temp = np.array(Image.open(i).resize((64,64)))\n",
    "    # temp = np.array(Image.open(i))\n",
    "    X1.append(temp)\n",
    "    \n",
    "X3=cv2.imread('eyes_downloaded.jpeg')"
   ]
  },
  {
   "cell_type": "code",
   "execution_count": 126,
   "id": "89738e59",
   "metadata": {
    "execution": {
     "iopub.execute_input": "2024-07-20T15:43:20.850438Z",
     "iopub.status.busy": "2024-07-20T15:43:20.850088Z",
     "iopub.status.idle": "2024-07-20T15:43:20.857903Z",
     "shell.execute_reply": "2024-07-20T15:43:20.857046Z"
    },
    "papermill": {
     "duration": 0.068188,
     "end_time": "2024-07-20T15:43:20.859933",
     "exception": false,
     "start_time": "2024-07-20T15:43:20.791745",
     "status": "completed"
    },
    "tags": []
   },
   "outputs": [
    {
     "data": {
      "text/plain": [
       "[array([[[223, 226, 231],\n",
       "         [223, 226, 231],\n",
       "         [223, 226, 231],\n",
       "         ...,\n",
       "         [223, 226, 231],\n",
       "         [223, 226, 231],\n",
       "         [223, 226, 231]],\n",
       " \n",
       "        [[219, 222, 227],\n",
       "         [219, 222, 227],\n",
       "         [219, 222, 227],\n",
       "         ...,\n",
       "         [219, 222, 227],\n",
       "         [219, 222, 227],\n",
       "         [219, 222, 227]],\n",
       " \n",
       "        [[220, 223, 228],\n",
       "         [220, 223, 228],\n",
       "         [220, 223, 228],\n",
       "         ...,\n",
       "         [220, 223, 228],\n",
       "         [220, 223, 228],\n",
       "         [220, 223, 228]],\n",
       " \n",
       "        ...,\n",
       " \n",
       "        [[220, 223, 228],\n",
       "         [220, 223, 228],\n",
       "         [220, 223, 228],\n",
       "         ...,\n",
       "         [220, 223, 228],\n",
       "         [220, 223, 228],\n",
       "         [220, 223, 228]],\n",
       " \n",
       "        [[220, 223, 228],\n",
       "         [220, 223, 228],\n",
       "         [220, 223, 228],\n",
       "         ...,\n",
       "         [220, 223, 228],\n",
       "         [220, 223, 228],\n",
       "         [220, 223, 228]],\n",
       " \n",
       "        [[224, 227, 232],\n",
       "         [224, 227, 232],\n",
       "         [224, 227, 232],\n",
       "         ...,\n",
       "         [224, 227, 232],\n",
       "         [224, 227, 232],\n",
       "         [224, 227, 232]]], dtype=uint8)]"
      ]
     },
     "execution_count": 126,
     "metadata": {},
     "output_type": "execute_result"
    }
   ],
   "source": [
    "X1"
   ]
  },
  {
   "cell_type": "code",
   "execution_count": 138,
   "id": "2f042481",
   "metadata": {},
   "outputs": [
    {
     "data": {
      "text/plain": [
       "array([[[251, 215, 189],\n",
       "        [251, 215, 189],\n",
       "        [249, 212, 186],\n",
       "        ...,\n",
       "        [231, 186, 155],\n",
       "        [165, 120,  87],\n",
       "        [189, 144, 111]],\n",
       "\n",
       "       [[251, 215, 189],\n",
       "        [251, 215, 189],\n",
       "        [249, 212, 186],\n",
       "        ...,\n",
       "        [178, 133, 102],\n",
       "        [236, 191, 158],\n",
       "        [188, 143, 110]],\n",
       "\n",
       "       [[248, 212, 187],\n",
       "        [251, 215, 189],\n",
       "        [249, 212, 186],\n",
       "        ...,\n",
       "        [228, 181, 150],\n",
       "        [208, 162, 129],\n",
       "        [209, 164, 130]],\n",
       "\n",
       "       ...,\n",
       "\n",
       "       [[252, 232, 213],\n",
       "        [252, 234, 219],\n",
       "        [255, 237, 223],\n",
       "        ...,\n",
       "        [250, 216, 188],\n",
       "        [252, 219, 191],\n",
       "        [250, 220, 193]],\n",
       "\n",
       "       [[251, 233, 213],\n",
       "        [254, 235, 220],\n",
       "        [255, 236, 221],\n",
       "        ...,\n",
       "        [250, 216, 188],\n",
       "        [251, 220, 192],\n",
       "        [249, 222, 193]],\n",
       "\n",
       "       [[251, 233, 213],\n",
       "        [252, 233, 218],\n",
       "        [253, 234, 220],\n",
       "        ...,\n",
       "        [252, 218, 190],\n",
       "        [253, 222, 194],\n",
       "        [249, 222, 193]]], dtype=uint8)"
      ]
     },
     "execution_count": 138,
     "metadata": {},
     "output_type": "execute_result"
    }
   ],
   "source": [
    "X3=cv2.cvtColor(X3,cv2.COLOR_BGR2RGB)\n",
    "X3=cv2.resize(X3,(64,64))\n",
    "X3"
   ]
  },
  {
   "cell_type": "code",
   "execution_count": 128,
   "id": "18ba9ec0",
   "metadata": {},
   "outputs": [
    {
     "data": {
      "text/plain": [
       "array([[[224, 227, 232],\n",
       "        [224, 227, 232],\n",
       "        [224, 227, 232],\n",
       "        ...,\n",
       "        [224, 227, 232],\n",
       "        [224, 227, 232],\n",
       "        [224, 227, 232]],\n",
       "\n",
       "       [[220, 223, 228],\n",
       "        [220, 223, 228],\n",
       "        [220, 223, 228],\n",
       "        ...,\n",
       "        [220, 223, 228],\n",
       "        [220, 223, 228],\n",
       "        [220, 223, 228]],\n",
       "\n",
       "       [[220, 223, 228],\n",
       "        [220, 223, 228],\n",
       "        [220, 223, 228],\n",
       "        ...,\n",
       "        [220, 223, 228],\n",
       "        [220, 223, 228],\n",
       "        [220, 223, 228]],\n",
       "\n",
       "       ...,\n",
       "\n",
       "       [[220, 223, 228],\n",
       "        [220, 223, 228],\n",
       "        [220, 223, 228],\n",
       "        ...,\n",
       "        [220, 223, 228],\n",
       "        [220, 223, 228],\n",
       "        [220, 223, 228]],\n",
       "\n",
       "       [[220, 223, 228],\n",
       "        [220, 223, 228],\n",
       "        [220, 223, 228],\n",
       "        ...,\n",
       "        [220, 223, 228],\n",
       "        [220, 223, 228],\n",
       "        [220, 223, 228]],\n",
       "\n",
       "       [[225, 228, 233],\n",
       "        [225, 228, 233],\n",
       "        [225, 228, 233],\n",
       "        ...,\n",
       "        [225, 228, 233],\n",
       "        [225, 228, 233],\n",
       "        [225, 228, 233]]], dtype=uint8)"
      ]
     },
     "execution_count": 128,
     "metadata": {},
     "output_type": "execute_result"
    }
   ],
   "source": [
    "X4=cv2.imread('man_face.jpeg')\n",
    "X4=cv2.cvtColor(X4,cv2.COLOR_BGR2RGB)\n",
    "X4=cv2.resize(X4,(64,64))\n",
    "X4"
   ]
  },
  {
   "cell_type": "code",
   "execution_count": 103,
   "id": "5920d7ee",
   "metadata": {
    "execution": {
     "iopub.execute_input": "2024-07-20T15:43:20.996341Z",
     "iopub.status.busy": "2024-07-20T15:43:20.995548Z",
     "iopub.status.idle": "2024-07-20T15:43:21.001958Z",
     "shell.execute_reply": "2024-07-20T15:43:21.001098Z"
    },
    "papermill": {
     "duration": 0.07218,
     "end_time": "2024-07-20T15:43:21.004023",
     "exception": false,
     "start_time": "2024-07-20T15:43:20.931843",
     "status": "completed"
    },
    "tags": []
   },
   "outputs": [
    {
     "data": {
      "text/plain": [
       "(64, 64, 3)"
      ]
     },
     "execution_count": 103,
     "metadata": {},
     "output_type": "execute_result"
    }
   ],
   "source": [
    "X1[0].shape"
   ]
  },
  {
   "cell_type": "code",
   "execution_count": 81,
   "id": "06951f40",
   "metadata": {
    "execution": {
     "iopub.execute_input": "2024-07-20T15:43:21.119748Z",
     "iopub.status.busy": "2024-07-20T15:43:21.119465Z",
     "iopub.status.idle": "2024-07-20T15:43:21.125461Z",
     "shell.execute_reply": "2024-07-20T15:43:21.124568Z"
    },
    "papermill": {
     "duration": 0.065631,
     "end_time": "2024-07-20T15:43:21.127441",
     "exception": false,
     "start_time": "2024-07-20T15:43:21.061810",
     "status": "completed"
    },
    "tags": []
   },
   "outputs": [
    {
     "data": {
      "text/plain": [
       "(1320, 64, 64, 1)"
      ]
     },
     "execution_count": 81,
     "metadata": {},
     "output_type": "execute_result"
    }
   ],
   "source": [
    "x_test.shape"
   ]
  },
  {
   "cell_type": "code",
   "execution_count": 139,
   "id": "bd4952d1",
   "metadata": {
    "execution": {
     "iopub.execute_input": "2024-07-20T15:43:21.242894Z",
     "iopub.status.busy": "2024-07-20T15:43:21.242568Z",
     "iopub.status.idle": "2024-07-20T15:43:21.397969Z",
     "shell.execute_reply": "2024-07-20T15:43:21.396977Z"
    },
    "papermill": {
     "duration": 0.21565,
     "end_time": "2024-07-20T15:43:21.400142",
     "exception": false,
     "start_time": "2024-07-20T15:43:21.184492",
     "status": "completed"
    },
    "tags": []
   },
   "outputs": [
    {
     "name": "stdout",
     "output_type": "stream",
     "text": [
      "(1, 64, 64, 1)\n"
     ]
    }
   ],
   "source": [
    "import cv2\n",
    "import numpy as np\n",
    "\n",
    "# Assuming X1 is a numpy array and you want to resize the first image in the array\n",
    "\n",
    "# X2 = X1[0].astype(np.uint8)\n",
    "X2 = X3.astype(np.uint8)\n",
    "# Convert to grayscale\n",
    "X2_gray = cv2.cvtColor(X2, cv2.COLOR_BGR2GRAY)\n",
    "\n",
    "# Now reshape the resized grayscale image\n",
    "X1_reshaped = np.reshape(X2_gray, (1,64, 64, 1))\n",
    "\n",
    "print(X1_reshaped.shape)  # Should print (64, 64, 1)\n"
   ]
  },
  {
   "cell_type": "code",
   "execution_count": 140,
   "id": "102edf99",
   "metadata": {
    "execution": {
     "iopub.execute_input": "2024-07-20T15:43:21.517563Z",
     "iopub.status.busy": "2024-07-20T15:43:21.517195Z",
     "iopub.status.idle": "2024-07-20T15:43:21.521931Z",
     "shell.execute_reply": "2024-07-20T15:43:21.520963Z"
    },
    "papermill": {
     "duration": 0.065444,
     "end_time": "2024-07-20T15:43:21.524162",
     "exception": false,
     "start_time": "2024-07-20T15:43:21.458718",
     "status": "completed"
    },
    "tags": []
   },
   "outputs": [
    {
     "data": {
      "text/plain": [
       "array([[[0.98431373, 0.84313725, 0.74117647],\n",
       "        [0.98431373, 0.84313725, 0.74117647],\n",
       "        [0.97647059, 0.83137255, 0.72941176],\n",
       "        ...,\n",
       "        [0.90588235, 0.72941176, 0.60784314],\n",
       "        [0.64705882, 0.47058824, 0.34117647],\n",
       "        [0.74117647, 0.56470588, 0.43529412]],\n",
       "\n",
       "       [[0.98431373, 0.84313725, 0.74117647],\n",
       "        [0.98431373, 0.84313725, 0.74117647],\n",
       "        [0.97647059, 0.83137255, 0.72941176],\n",
       "        ...,\n",
       "        [0.69803922, 0.52156863, 0.4       ],\n",
       "        [0.9254902 , 0.74901961, 0.61960784],\n",
       "        [0.7372549 , 0.56078431, 0.43137255]],\n",
       "\n",
       "       [[0.97254902, 0.83137255, 0.73333333],\n",
       "        [0.98431373, 0.84313725, 0.74117647],\n",
       "        [0.97647059, 0.83137255, 0.72941176],\n",
       "        ...,\n",
       "        [0.89411765, 0.70980392, 0.58823529],\n",
       "        [0.81568627, 0.63529412, 0.50588235],\n",
       "        [0.81960784, 0.64313725, 0.50980392]],\n",
       "\n",
       "       ...,\n",
       "\n",
       "       [[0.98823529, 0.90980392, 0.83529412],\n",
       "        [0.98823529, 0.91764706, 0.85882353],\n",
       "        [1.        , 0.92941176, 0.8745098 ],\n",
       "        ...,\n",
       "        [0.98039216, 0.84705882, 0.7372549 ],\n",
       "        [0.98823529, 0.85882353, 0.74901961],\n",
       "        [0.98039216, 0.8627451 , 0.75686275]],\n",
       "\n",
       "       [[0.98431373, 0.91372549, 0.83529412],\n",
       "        [0.99607843, 0.92156863, 0.8627451 ],\n",
       "        [1.        , 0.9254902 , 0.86666667],\n",
       "        ...,\n",
       "        [0.98039216, 0.84705882, 0.7372549 ],\n",
       "        [0.98431373, 0.8627451 , 0.75294118],\n",
       "        [0.97647059, 0.87058824, 0.75686275]],\n",
       "\n",
       "       [[0.98431373, 0.91372549, 0.83529412],\n",
       "        [0.98823529, 0.91372549, 0.85490196],\n",
       "        [0.99215686, 0.91764706, 0.8627451 ],\n",
       "        ...,\n",
       "        [0.98823529, 0.85490196, 0.74509804],\n",
       "        [0.99215686, 0.87058824, 0.76078431],\n",
       "        [0.97647059, 0.87058824, 0.75686275]]])"
      ]
     },
     "execution_count": 140,
     "metadata": {},
     "output_type": "execute_result"
    }
   ],
   "source": [
    "X3 = np.array(X3)\n",
    "X3 = X3/255.0\n",
    "X3"
   ]
  },
  {
   "cell_type": "code",
   "execution_count": 141,
   "id": "a0487cd1",
   "metadata": {
    "execution": {
     "iopub.execute_input": "2024-07-20T15:43:21.640155Z",
     "iopub.status.busy": "2024-07-20T15:43:21.639507Z",
     "iopub.status.idle": "2024-07-20T15:43:21.645788Z",
     "shell.execute_reply": "2024-07-20T15:43:21.644888Z"
    },
    "papermill": {
     "duration": 0.066838,
     "end_time": "2024-07-20T15:43:21.648057",
     "exception": false,
     "start_time": "2024-07-20T15:43:21.581219",
     "status": "completed"
    },
    "tags": []
   },
   "outputs": [
    {
     "name": "stdout",
     "output_type": "stream",
     "text": [
      "(1, 64, 64, 1)\n"
     ]
    }
   ],
   "source": [
    "import cv2\n",
    "import numpy as np\n",
    "\n",
    "# Assuming X1 is a numpy array and you want to resize the first image in the array\n",
    "#X2 = cv2.resize(X1[0], (64, 64))\n",
    "\n",
    "# Convert to grayscale\n",
    "X2_gray = cv2.cvtColor(X2, cv2.COLOR_BGR2GRAY)\n",
    "\n",
    "# Now reshape the resized grayscale image and add batch dimension\n",
    "X1_reshaped = np.reshape(X2_gray, (1, 64, 64, 1))\n",
    "\n",
    "print(X1_reshaped.shape)  # Should print (1, 64, 64, 1)\n"
   ]
  },
  {
   "cell_type": "code",
   "execution_count": 142,
   "id": "a219c14a",
   "metadata": {
    "execution": {
     "iopub.execute_input": "2024-07-20T15:43:21.763140Z",
     "iopub.status.busy": "2024-07-20T15:43:21.762818Z",
     "iopub.status.idle": "2024-07-20T15:43:22.206610Z",
     "shell.execute_reply": "2024-07-20T15:43:22.205639Z"
    },
    "papermill": {
     "duration": 0.504697,
     "end_time": "2024-07-20T15:43:22.209710",
     "exception": false,
     "start_time": "2024-07-20T15:43:21.705013",
     "status": "completed"
    },
    "tags": []
   },
   "outputs": [
    {
     "name": "stdout",
     "output_type": "stream",
     "text": [
      "\u001b[1m1/1\u001b[0m \u001b[32m━━━━━━━━━━━━━━━━━━━━\u001b[0m\u001b[37m\u001b[0m \u001b[1m0s\u001b[0m 18ms/step\n"
     ]
    },
    {
     "data": {
      "image/png": "[encoded data removed]",
      "text/plain": [
       "<Figure size 640x480 with 1 Axes>"
      ]
     },
     "metadata": {},
     "output_type": "display_data"
    },
    {
     "name": "stdout",
     "output_type": "stream",
     "text": [
      "Open\n"
     ]
    }
   ],
   "source": [
    "for i in X1_reshaped:\n",
    "    result = best_model.predict(np.expand_dims(i,0))\n",
    "    plt.imshow(i)\n",
    "    plt.show()\n",
    "    \n",
    "    if result > 0.5:\n",
    "        print('Open')\n",
    "    else:\n",
    "        print(\"Closed\")"
   ]
  },
  {
   "cell_type": "code",
   "execution_count": null,
   "id": "148291e5",
   "metadata": {
    "papermill": {
     "duration": 0.059871,
     "end_time": "2024-07-20T15:43:22.329095",
     "exception": false,
     "start_time": "2024-07-20T15:43:22.269224",
     "status": "completed"
    },
    "tags": []
   },
   "outputs": [],
   "source": []
  },
  {
   "cell_type": "code",
   "execution_count": null,
   "id": "62095e54",
   "metadata": {
    "papermill": {
     "duration": 0.057736,
     "end_time": "2024-07-20T15:43:22.444467",
     "exception": false,
     "start_time": "2024-07-20T15:43:22.386731",
     "status": "completed"
    },
    "tags": []
   },
   "outputs": [],
   "source": []
  }
 ],
 "metadata": {
  "kaggle": {
   "accelerator": "gpu",
   "dataSources": [
    {
     "datasetId": 1048759,
     "sourceId": 1770390,
     "sourceType": "datasetVersion"
    },
    {
     "datasetId": 5420170,
     "sourceId": 8998124,
     "sourceType": "datasetVersion"
    }
   ],
   "dockerImageVersionId": 30370,
   "isGpuEnabled": true,
   "isInternetEnabled": true,
   "language": "python",
   "sourceType": "notebook"
  },
  "kernelspec": {
   "display_name": "Python 3",
   "language": "python",
   "name": "python3"
  },
  "language_info": {
   "codemirror_mode": {
    "name": "ipython",
    "version": 3
   },
   "file_extension": ".py",
   "mimetype": "text/x-python",
   "name": "python",
   "nbconvert_exporter": "python",
   "pygments_lexer": "ipython3",
   "version": "3.11.3"
  },
  "papermill": {
   "default_parameters": {},
   "duration": 83.429988,
   "end_time": "2024-07-20T15:43:25.963494",
   "environment_variables": {},
   "exception": null,
   "input_path": "__notebook__.ipynb",
   "output_path": "__notebook__.ipynb",
   "parameters": {},
   "start_time": "2024-07-20T15:42:02.533506",
   "version": "2.3.4"
  }
 },
 "nbformat": 4,
 "nbformat_minor": 5
}
